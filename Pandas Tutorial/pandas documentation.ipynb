{
 "cells": [
  {
   "cell_type": "code",
   "execution_count": 46,
   "id": "1360e643-1f7d-4d74-96db-aad696382d43",
   "metadata": {},
   "outputs": [],
   "source": [
    "import pandas as pd\n",
    "import numpy as np"
   ]
  },
  {
   "cell_type": "code",
   "execution_count": 47,
   "id": "09e359c3-8297-4f48-8464-2ec073bed912",
   "metadata": {},
   "outputs": [
    {
     "data": {
      "text/plain": [
       "0    1.0\n",
       "1    2.0\n",
       "2    3.0\n",
       "3    4.0\n",
       "4    NaN\n",
       "5    6.0\n",
       "6    7.0\n",
       "dtype: float64"
      ]
     },
     "execution_count": 47,
     "metadata": {},
     "output_type": "execute_result"
    }
   ],
   "source": [
    "s=pd.Series([1,2,3,4, np.nan, 6,7])\n",
    "s"
   ]
  },
  {
   "cell_type": "code",
   "execution_count": 48,
   "id": "84161473",
   "metadata": {},
   "outputs": [
    {
     "data": {
      "text/plain": [
       "DatetimeIndex(['2017-02-11', '2017-02-12', '2017-02-13', '2017-02-14',\n",
       "               '2017-02-15', '2017-02-16'],\n",
       "              dtype='datetime64[ns]', freq='D')"
      ]
     },
     "execution_count": 48,
     "metadata": {},
     "output_type": "execute_result"
    }
   ],
   "source": [
    "dates=pd.date_range(\"20170211\", periods=6)\n",
    "dates"
   ]
  },
  {
   "cell_type": "code",
   "execution_count": 49,
   "id": "55c92caa",
   "metadata": {},
   "outputs": [
    {
     "data": {
      "text/plain": [
       "array([[-0.6584927 , -0.1746331 , -0.79413667,  1.3542444 ],\n",
       "       [ 0.44391999, -0.25409557,  0.28186866,  0.82510969],\n",
       "       [-1.11023114, -0.59583226,  0.5146357 ,  0.63134709],\n",
       "       [-1.90829126,  1.6786294 , -2.91634067,  0.19143378],\n",
       "       [-0.81640671, -0.01869107, -1.16705691, -2.80306402],\n",
       "       [ 0.49045888,  1.74813732, -0.67041926, -0.49607744]])"
      ]
     },
     "execution_count": 49,
     "metadata": {},
     "output_type": "execute_result"
    }
   ],
   "source": [
    "np.random.randn(6,4)\n"
   ]
  },
  {
   "cell_type": "code",
   "execution_count": 50,
   "id": "821830f6",
   "metadata": {},
   "outputs": [
    {
     "data": {
      "text/html": [
       "<div>\n",
       "<style scoped>\n",
       "    .dataframe tbody tr th:only-of-type {\n",
       "        vertical-align: middle;\n",
       "    }\n",
       "\n",
       "    .dataframe tbody tr th {\n",
       "        vertical-align: top;\n",
       "    }\n",
       "\n",
       "    .dataframe thead th {\n",
       "        text-align: right;\n",
       "    }\n",
       "</style>\n",
       "<table border=\"1\" class=\"dataframe\">\n",
       "  <thead>\n",
       "    <tr style=\"text-align: right;\">\n",
       "      <th></th>\n",
       "      <th>A</th>\n",
       "      <th>B</th>\n",
       "      <th>C</th>\n",
       "      <th>D</th>\n",
       "    </tr>\n",
       "  </thead>\n",
       "  <tbody>\n",
       "    <tr>\n",
       "      <th>2017-02-11</th>\n",
       "      <td>-0.806102</td>\n",
       "      <td>0.966440</td>\n",
       "      <td>-2.008228</td>\n",
       "      <td>0.313310</td>\n",
       "    </tr>\n",
       "    <tr>\n",
       "      <th>2017-02-12</th>\n",
       "      <td>-0.144664</td>\n",
       "      <td>-1.652825</td>\n",
       "      <td>0.517022</td>\n",
       "      <td>1.044220</td>\n",
       "    </tr>\n",
       "    <tr>\n",
       "      <th>2017-02-13</th>\n",
       "      <td>0.124551</td>\n",
       "      <td>-0.022523</td>\n",
       "      <td>0.192469</td>\n",
       "      <td>-1.054225</td>\n",
       "    </tr>\n",
       "    <tr>\n",
       "      <th>2017-02-14</th>\n",
       "      <td>0.182518</td>\n",
       "      <td>1.045229</td>\n",
       "      <td>-0.661756</td>\n",
       "      <td>-1.558312</td>\n",
       "    </tr>\n",
       "    <tr>\n",
       "      <th>2017-02-15</th>\n",
       "      <td>-0.875753</td>\n",
       "      <td>-0.515257</td>\n",
       "      <td>1.294358</td>\n",
       "      <td>-1.151982</td>\n",
       "    </tr>\n",
       "    <tr>\n",
       "      <th>2017-02-16</th>\n",
       "      <td>-1.099485</td>\n",
       "      <td>0.437896</td>\n",
       "      <td>0.534614</td>\n",
       "      <td>-0.482830</td>\n",
       "    </tr>\n",
       "  </tbody>\n",
       "</table>\n",
       "</div>"
      ],
      "text/plain": [
       "                   A         B         C         D\n",
       "2017-02-11 -0.806102  0.966440 -2.008228  0.313310\n",
       "2017-02-12 -0.144664 -1.652825  0.517022  1.044220\n",
       "2017-02-13  0.124551 -0.022523  0.192469 -1.054225\n",
       "2017-02-14  0.182518  1.045229 -0.661756 -1.558312\n",
       "2017-02-15 -0.875753 -0.515257  1.294358 -1.151982\n",
       "2017-02-16 -1.099485  0.437896  0.534614 -0.482830"
      ]
     },
     "execution_count": 50,
     "metadata": {},
     "output_type": "execute_result"
    }
   ],
   "source": [
    "df=pd.DataFrame(np.random.randn(6,4), index= dates, columns=list('ABCD'))\n",
    "df"
   ]
  },
  {
   "cell_type": "markdown",
   "id": "8653aa27",
   "metadata": {},
   "source": [
    "Creating a DataFrame by passing a dictionary of objects where the keys are the column labels and the values are the column values."
   ]
  },
  {
   "cell_type": "code",
   "execution_count": 51,
   "id": "1f5d7317",
   "metadata": {},
   "outputs": [
    {
     "data": {
      "text/html": [
       "<div>\n",
       "<style scoped>\n",
       "    .dataframe tbody tr th:only-of-type {\n",
       "        vertical-align: middle;\n",
       "    }\n",
       "\n",
       "    .dataframe tbody tr th {\n",
       "        vertical-align: top;\n",
       "    }\n",
       "\n",
       "    .dataframe thead th {\n",
       "        text-align: right;\n",
       "    }\n",
       "</style>\n",
       "<table border=\"1\" class=\"dataframe\">\n",
       "  <thead>\n",
       "    <tr style=\"text-align: right;\">\n",
       "      <th></th>\n",
       "      <th>A</th>\n",
       "      <th>B</th>\n",
       "      <th>C</th>\n",
       "      <th>D</th>\n",
       "      <th>E</th>\n",
       "      <th>F</th>\n",
       "    </tr>\n",
       "  </thead>\n",
       "  <tbody>\n",
       "    <tr>\n",
       "      <th>0</th>\n",
       "      <td>1.0</td>\n",
       "      <td>2013-01-02</td>\n",
       "      <td>1</td>\n",
       "      <td>3</td>\n",
       "      <td>test</td>\n",
       "      <td>foo</td>\n",
       "    </tr>\n",
       "    <tr>\n",
       "      <th>1</th>\n",
       "      <td>1.0</td>\n",
       "      <td>2013-01-02</td>\n",
       "      <td>2</td>\n",
       "      <td>3</td>\n",
       "      <td>train</td>\n",
       "      <td>foo</td>\n",
       "    </tr>\n",
       "    <tr>\n",
       "      <th>2</th>\n",
       "      <td>1.0</td>\n",
       "      <td>2013-01-02</td>\n",
       "      <td>3</td>\n",
       "      <td>3</td>\n",
       "      <td>test</td>\n",
       "      <td>foo</td>\n",
       "    </tr>\n",
       "    <tr>\n",
       "      <th>3</th>\n",
       "      <td>1.0</td>\n",
       "      <td>2013-01-02</td>\n",
       "      <td>4</td>\n",
       "      <td>3</td>\n",
       "      <td>train</td>\n",
       "      <td>foo</td>\n",
       "    </tr>\n",
       "  </tbody>\n",
       "</table>\n",
       "</div>"
      ],
      "text/plain": [
       "     A          B  C  D      E    F\n",
       "0  1.0 2013-01-02  1  3   test  foo\n",
       "1  1.0 2013-01-02  2  3  train  foo\n",
       "2  1.0 2013-01-02  3  3   test  foo\n",
       "3  1.0 2013-01-02  4  3  train  foo"
      ]
     },
     "execution_count": 51,
     "metadata": {},
     "output_type": "execute_result"
    }
   ],
   "source": [
    "df2 = pd.DataFrame(\n",
    "    {\n",
    "        \"A\": 1.0,\n",
    "        \"B\": pd.Timestamp(\"20130102\"),\n",
    "        \"C\": pd.Series((1,2,3,4), index=list(range(4)), dtype=\"int32\"),\n",
    "        \"D\": np.array([3] * 4, dtype=\"int32\"),\n",
    "        \"E\": pd.Categorical([\"test\", \"train\", \"test\", \"train\"]),\n",
    "        \"F\": \"foo\",\n",
    "    }\n",
    ")\n",
    "df2"
   ]
  },
  {
   "cell_type": "code",
   "execution_count": 52,
   "id": "68f3f756",
   "metadata": {},
   "outputs": [
    {
     "data": {
      "text/plain": [
       "A          float64\n",
       "B    datetime64[s]\n",
       "C            int32\n",
       "D            int32\n",
       "E         category\n",
       "F           object\n",
       "dtype: object"
      ]
     },
     "execution_count": 52,
     "metadata": {},
     "output_type": "execute_result"
    }
   ],
   "source": [
    "df2.dtypes"
   ]
  },
  {
   "cell_type": "markdown",
   "id": "d6c6c880",
   "metadata": {},
   "source": [
    "Viewing Data"
   ]
  },
  {
   "cell_type": "code",
   "execution_count": 53,
   "id": "de990b88",
   "metadata": {},
   "outputs": [
    {
     "data": {
      "text/html": [
       "<div>\n",
       "<style scoped>\n",
       "    .dataframe tbody tr th:only-of-type {\n",
       "        vertical-align: middle;\n",
       "    }\n",
       "\n",
       "    .dataframe tbody tr th {\n",
       "        vertical-align: top;\n",
       "    }\n",
       "\n",
       "    .dataframe thead th {\n",
       "        text-align: right;\n",
       "    }\n",
       "</style>\n",
       "<table border=\"1\" class=\"dataframe\">\n",
       "  <thead>\n",
       "    <tr style=\"text-align: right;\">\n",
       "      <th></th>\n",
       "      <th>A</th>\n",
       "      <th>B</th>\n",
       "      <th>C</th>\n",
       "      <th>D</th>\n",
       "    </tr>\n",
       "  </thead>\n",
       "  <tbody>\n",
       "    <tr>\n",
       "      <th>2017-02-11</th>\n",
       "      <td>-0.806102</td>\n",
       "      <td>0.966440</td>\n",
       "      <td>-2.008228</td>\n",
       "      <td>0.31331</td>\n",
       "    </tr>\n",
       "    <tr>\n",
       "      <th>2017-02-12</th>\n",
       "      <td>-0.144664</td>\n",
       "      <td>-1.652825</td>\n",
       "      <td>0.517022</td>\n",
       "      <td>1.04422</td>\n",
       "    </tr>\n",
       "  </tbody>\n",
       "</table>\n",
       "</div>"
      ],
      "text/plain": [
       "                   A         B         C        D\n",
       "2017-02-11 -0.806102  0.966440 -2.008228  0.31331\n",
       "2017-02-12 -0.144664 -1.652825  0.517022  1.04422"
      ]
     },
     "execution_count": 53,
     "metadata": {},
     "output_type": "execute_result"
    }
   ],
   "source": [
    "df.head(2)"
   ]
  },
  {
   "cell_type": "code",
   "execution_count": 54,
   "id": "a1cff774",
   "metadata": {},
   "outputs": [
    {
     "data": {
      "text/html": [
       "<div>\n",
       "<style scoped>\n",
       "    .dataframe tbody tr th:only-of-type {\n",
       "        vertical-align: middle;\n",
       "    }\n",
       "\n",
       "    .dataframe tbody tr th {\n",
       "        vertical-align: top;\n",
       "    }\n",
       "\n",
       "    .dataframe thead th {\n",
       "        text-align: right;\n",
       "    }\n",
       "</style>\n",
       "<table border=\"1\" class=\"dataframe\">\n",
       "  <thead>\n",
       "    <tr style=\"text-align: right;\">\n",
       "      <th></th>\n",
       "      <th>A</th>\n",
       "      <th>B</th>\n",
       "      <th>C</th>\n",
       "      <th>D</th>\n",
       "    </tr>\n",
       "  </thead>\n",
       "  <tbody>\n",
       "    <tr>\n",
       "      <th>2017-02-14</th>\n",
       "      <td>0.182518</td>\n",
       "      <td>1.045229</td>\n",
       "      <td>-0.661756</td>\n",
       "      <td>-1.558312</td>\n",
       "    </tr>\n",
       "    <tr>\n",
       "      <th>2017-02-15</th>\n",
       "      <td>-0.875753</td>\n",
       "      <td>-0.515257</td>\n",
       "      <td>1.294358</td>\n",
       "      <td>-1.151982</td>\n",
       "    </tr>\n",
       "    <tr>\n",
       "      <th>2017-02-16</th>\n",
       "      <td>-1.099485</td>\n",
       "      <td>0.437896</td>\n",
       "      <td>0.534614</td>\n",
       "      <td>-0.482830</td>\n",
       "    </tr>\n",
       "  </tbody>\n",
       "</table>\n",
       "</div>"
      ],
      "text/plain": [
       "                   A         B         C         D\n",
       "2017-02-14  0.182518  1.045229 -0.661756 -1.558312\n",
       "2017-02-15 -0.875753 -0.515257  1.294358 -1.151982\n",
       "2017-02-16 -1.099485  0.437896  0.534614 -0.482830"
      ]
     },
     "execution_count": 54,
     "metadata": {},
     "output_type": "execute_result"
    }
   ],
   "source": [
    "df.tail(3)"
   ]
  },
  {
   "cell_type": "code",
   "execution_count": 55,
   "id": "f69b2e68",
   "metadata": {},
   "outputs": [
    {
     "data": {
      "text/html": [
       "<div>\n",
       "<style scoped>\n",
       "    .dataframe tbody tr th:only-of-type {\n",
       "        vertical-align: middle;\n",
       "    }\n",
       "\n",
       "    .dataframe tbody tr th {\n",
       "        vertical-align: top;\n",
       "    }\n",
       "\n",
       "    .dataframe thead th {\n",
       "        text-align: right;\n",
       "    }\n",
       "</style>\n",
       "<table border=\"1\" class=\"dataframe\">\n",
       "  <thead>\n",
       "    <tr style=\"text-align: right;\">\n",
       "      <th></th>\n",
       "      <th>A</th>\n",
       "      <th>B</th>\n",
       "      <th>C</th>\n",
       "      <th>D</th>\n",
       "    </tr>\n",
       "  </thead>\n",
       "  <tbody>\n",
       "    <tr>\n",
       "      <th>2017-02-11</th>\n",
       "      <td>0.806102</td>\n",
       "      <td>0.966440</td>\n",
       "      <td>2.008228</td>\n",
       "      <td>0.313310</td>\n",
       "    </tr>\n",
       "    <tr>\n",
       "      <th>2017-02-12</th>\n",
       "      <td>0.144664</td>\n",
       "      <td>1.652825</td>\n",
       "      <td>0.517022</td>\n",
       "      <td>1.044220</td>\n",
       "    </tr>\n",
       "    <tr>\n",
       "      <th>2017-02-13</th>\n",
       "      <td>0.124551</td>\n",
       "      <td>0.022523</td>\n",
       "      <td>0.192469</td>\n",
       "      <td>1.054225</td>\n",
       "    </tr>\n",
       "    <tr>\n",
       "      <th>2017-02-14</th>\n",
       "      <td>0.182518</td>\n",
       "      <td>1.045229</td>\n",
       "      <td>0.661756</td>\n",
       "      <td>1.558312</td>\n",
       "    </tr>\n",
       "    <tr>\n",
       "      <th>2017-02-15</th>\n",
       "      <td>0.875753</td>\n",
       "      <td>0.515257</td>\n",
       "      <td>1.294358</td>\n",
       "      <td>1.151982</td>\n",
       "    </tr>\n",
       "    <tr>\n",
       "      <th>2017-02-16</th>\n",
       "      <td>1.099485</td>\n",
       "      <td>0.437896</td>\n",
       "      <td>0.534614</td>\n",
       "      <td>0.482830</td>\n",
       "    </tr>\n",
       "  </tbody>\n",
       "</table>\n",
       "</div>"
      ],
      "text/plain": [
       "                   A         B         C         D\n",
       "2017-02-11  0.806102  0.966440  2.008228  0.313310\n",
       "2017-02-12  0.144664  1.652825  0.517022  1.044220\n",
       "2017-02-13  0.124551  0.022523  0.192469  1.054225\n",
       "2017-02-14  0.182518  1.045229  0.661756  1.558312\n",
       "2017-02-15  0.875753  0.515257  1.294358  1.151982\n",
       "2017-02-16  1.099485  0.437896  0.534614  0.482830"
      ]
     },
     "execution_count": 55,
     "metadata": {},
     "output_type": "execute_result"
    }
   ],
   "source": [
    "df.abs()"
   ]
  },
  {
   "cell_type": "code",
   "execution_count": 56,
   "id": "9450a8a4",
   "metadata": {},
   "outputs": [
    {
     "data": {
      "text/plain": [
       "DatetimeIndex(['2017-02-11', '2017-02-12', '2017-02-13', '2017-02-14',\n",
       "               '2017-02-15', '2017-02-16'],\n",
       "              dtype='datetime64[ns]', freq='D')"
      ]
     },
     "execution_count": 56,
     "metadata": {},
     "output_type": "execute_result"
    }
   ],
   "source": [
    "df.index"
   ]
  },
  {
   "cell_type": "code",
   "execution_count": 57,
   "id": "1b924335",
   "metadata": {},
   "outputs": [
    {
     "data": {
      "text/html": [
       "<div>\n",
       "<style scoped>\n",
       "    .dataframe tbody tr th:only-of-type {\n",
       "        vertical-align: middle;\n",
       "    }\n",
       "\n",
       "    .dataframe tbody tr th {\n",
       "        vertical-align: top;\n",
       "    }\n",
       "\n",
       "    .dataframe thead th {\n",
       "        text-align: right;\n",
       "    }\n",
       "</style>\n",
       "<table border=\"1\" class=\"dataframe\">\n",
       "  <thead>\n",
       "    <tr style=\"text-align: right;\">\n",
       "      <th></th>\n",
       "      <th>A</th>\n",
       "      <th>B</th>\n",
       "      <th>C</th>\n",
       "      <th>D</th>\n",
       "    </tr>\n",
       "  </thead>\n",
       "  <tbody>\n",
       "    <tr>\n",
       "      <th>2017-02-11</th>\n",
       "      <td>-0.806102</td>\n",
       "      <td>0.966440</td>\n",
       "      <td>-2.008228</td>\n",
       "      <td>0.313310</td>\n",
       "    </tr>\n",
       "    <tr>\n",
       "      <th>2017-02-12</th>\n",
       "      <td>-0.144664</td>\n",
       "      <td>-1.652825</td>\n",
       "      <td>0.517022</td>\n",
       "      <td>1.044220</td>\n",
       "    </tr>\n",
       "    <tr>\n",
       "      <th>2017-02-13</th>\n",
       "      <td>0.124551</td>\n",
       "      <td>-0.022523</td>\n",
       "      <td>0.192469</td>\n",
       "      <td>-1.054225</td>\n",
       "    </tr>\n",
       "    <tr>\n",
       "      <th>2017-02-14</th>\n",
       "      <td>0.182518</td>\n",
       "      <td>1.045229</td>\n",
       "      <td>-0.661756</td>\n",
       "      <td>-1.558312</td>\n",
       "    </tr>\n",
       "    <tr>\n",
       "      <th>2017-02-15</th>\n",
       "      <td>-0.875753</td>\n",
       "      <td>-0.515257</td>\n",
       "      <td>1.294358</td>\n",
       "      <td>-1.151982</td>\n",
       "    </tr>\n",
       "    <tr>\n",
       "      <th>2017-02-16</th>\n",
       "      <td>-1.099485</td>\n",
       "      <td>0.437896</td>\n",
       "      <td>0.534614</td>\n",
       "      <td>-0.482830</td>\n",
       "    </tr>\n",
       "  </tbody>\n",
       "</table>\n",
       "</div>"
      ],
      "text/plain": [
       "                   A         B         C         D\n",
       "2017-02-11 -0.806102  0.966440 -2.008228  0.313310\n",
       "2017-02-12 -0.144664 -1.652825  0.517022  1.044220\n",
       "2017-02-13  0.124551 -0.022523  0.192469 -1.054225\n",
       "2017-02-14  0.182518  1.045229 -0.661756 -1.558312\n",
       "2017-02-15 -0.875753 -0.515257  1.294358 -1.151982\n",
       "2017-02-16 -1.099485  0.437896  0.534614 -0.482830"
      ]
     },
     "execution_count": 57,
     "metadata": {},
     "output_type": "execute_result"
    }
   ],
   "source": [
    "df.set_index('B')\n",
    "df"
   ]
  },
  {
   "cell_type": "code",
   "execution_count": 58,
   "id": "0687566d",
   "metadata": {},
   "outputs": [
    {
     "data": {
      "text/html": [
       "<div>\n",
       "<style scoped>\n",
       "    .dataframe tbody tr th:only-of-type {\n",
       "        vertical-align: middle;\n",
       "    }\n",
       "\n",
       "    .dataframe tbody tr th {\n",
       "        vertical-align: top;\n",
       "    }\n",
       "\n",
       "    .dataframe thead th {\n",
       "        text-align: right;\n",
       "    }\n",
       "</style>\n",
       "<table border=\"1\" class=\"dataframe\">\n",
       "  <thead>\n",
       "    <tr style=\"text-align: right;\">\n",
       "      <th></th>\n",
       "      <th>index</th>\n",
       "      <th>A</th>\n",
       "      <th>B</th>\n",
       "      <th>C</th>\n",
       "      <th>D</th>\n",
       "    </tr>\n",
       "  </thead>\n",
       "  <tbody>\n",
       "    <tr>\n",
       "      <th>0</th>\n",
       "      <td>2017-02-11</td>\n",
       "      <td>-0.806102</td>\n",
       "      <td>0.966440</td>\n",
       "      <td>-2.008228</td>\n",
       "      <td>0.313310</td>\n",
       "    </tr>\n",
       "    <tr>\n",
       "      <th>1</th>\n",
       "      <td>2017-02-12</td>\n",
       "      <td>-0.144664</td>\n",
       "      <td>-1.652825</td>\n",
       "      <td>0.517022</td>\n",
       "      <td>1.044220</td>\n",
       "    </tr>\n",
       "    <tr>\n",
       "      <th>2</th>\n",
       "      <td>2017-02-13</td>\n",
       "      <td>0.124551</td>\n",
       "      <td>-0.022523</td>\n",
       "      <td>0.192469</td>\n",
       "      <td>-1.054225</td>\n",
       "    </tr>\n",
       "    <tr>\n",
       "      <th>3</th>\n",
       "      <td>2017-02-14</td>\n",
       "      <td>0.182518</td>\n",
       "      <td>1.045229</td>\n",
       "      <td>-0.661756</td>\n",
       "      <td>-1.558312</td>\n",
       "    </tr>\n",
       "    <tr>\n",
       "      <th>4</th>\n",
       "      <td>2017-02-15</td>\n",
       "      <td>-0.875753</td>\n",
       "      <td>-0.515257</td>\n",
       "      <td>1.294358</td>\n",
       "      <td>-1.151982</td>\n",
       "    </tr>\n",
       "    <tr>\n",
       "      <th>5</th>\n",
       "      <td>2017-02-16</td>\n",
       "      <td>-1.099485</td>\n",
       "      <td>0.437896</td>\n",
       "      <td>0.534614</td>\n",
       "      <td>-0.482830</td>\n",
       "    </tr>\n",
       "  </tbody>\n",
       "</table>\n",
       "</div>"
      ],
      "text/plain": [
       "       index         A         B         C         D\n",
       "0 2017-02-11 -0.806102  0.966440 -2.008228  0.313310\n",
       "1 2017-02-12 -0.144664 -1.652825  0.517022  1.044220\n",
       "2 2017-02-13  0.124551 -0.022523  0.192469 -1.054225\n",
       "3 2017-02-14  0.182518  1.045229 -0.661756 -1.558312\n",
       "4 2017-02-15 -0.875753 -0.515257  1.294358 -1.151982\n",
       "5 2017-02-16 -1.099485  0.437896  0.534614 -0.482830"
      ]
     },
     "execution_count": 58,
     "metadata": {},
     "output_type": "execute_result"
    }
   ],
   "source": [
    "df.reset_index()"
   ]
  },
  {
   "cell_type": "code",
   "execution_count": 59,
   "id": "f0c5ae40",
   "metadata": {},
   "outputs": [
    {
     "data": {
      "text/html": [
       "<div>\n",
       "<style scoped>\n",
       "    .dataframe tbody tr th:only-of-type {\n",
       "        vertical-align: middle;\n",
       "    }\n",
       "\n",
       "    .dataframe tbody tr th {\n",
       "        vertical-align: top;\n",
       "    }\n",
       "\n",
       "    .dataframe thead th {\n",
       "        text-align: right;\n",
       "    }\n",
       "</style>\n",
       "<table border=\"1\" class=\"dataframe\">\n",
       "  <thead>\n",
       "    <tr style=\"text-align: right;\">\n",
       "      <th></th>\n",
       "      <th>A</th>\n",
       "      <th>B</th>\n",
       "      <th>C</th>\n",
       "      <th>D</th>\n",
       "    </tr>\n",
       "  </thead>\n",
       "  <tbody>\n",
       "    <tr>\n",
       "      <th>2017-02-11</th>\n",
       "      <td>-0.806102</td>\n",
       "      <td>0.966440</td>\n",
       "      <td>-2.008228</td>\n",
       "      <td>0.313310</td>\n",
       "    </tr>\n",
       "    <tr>\n",
       "      <th>2017-02-12</th>\n",
       "      <td>-0.144664</td>\n",
       "      <td>-1.652825</td>\n",
       "      <td>0.517022</td>\n",
       "      <td>1.044220</td>\n",
       "    </tr>\n",
       "    <tr>\n",
       "      <th>2017-02-13</th>\n",
       "      <td>0.124551</td>\n",
       "      <td>-0.022523</td>\n",
       "      <td>0.192469</td>\n",
       "      <td>-1.054225</td>\n",
       "    </tr>\n",
       "    <tr>\n",
       "      <th>2017-02-14</th>\n",
       "      <td>0.182518</td>\n",
       "      <td>1.045229</td>\n",
       "      <td>-0.661756</td>\n",
       "      <td>-1.558312</td>\n",
       "    </tr>\n",
       "    <tr>\n",
       "      <th>2017-02-15</th>\n",
       "      <td>-0.875753</td>\n",
       "      <td>-0.515257</td>\n",
       "      <td>1.294358</td>\n",
       "      <td>-1.151982</td>\n",
       "    </tr>\n",
       "    <tr>\n",
       "      <th>2017-02-16</th>\n",
       "      <td>-1.099485</td>\n",
       "      <td>0.437896</td>\n",
       "      <td>0.534614</td>\n",
       "      <td>-0.482830</td>\n",
       "    </tr>\n",
       "  </tbody>\n",
       "</table>\n",
       "</div>"
      ],
      "text/plain": [
       "                   A         B         C         D\n",
       "2017-02-11 -0.806102  0.966440 -2.008228  0.313310\n",
       "2017-02-12 -0.144664 -1.652825  0.517022  1.044220\n",
       "2017-02-13  0.124551 -0.022523  0.192469 -1.054225\n",
       "2017-02-14  0.182518  1.045229 -0.661756 -1.558312\n",
       "2017-02-15 -0.875753 -0.515257  1.294358 -1.151982\n",
       "2017-02-16 -1.099485  0.437896  0.534614 -0.482830"
      ]
     },
     "execution_count": 59,
     "metadata": {},
     "output_type": "execute_result"
    }
   ],
   "source": [
    "df"
   ]
  },
  {
   "cell_type": "code",
   "execution_count": 60,
   "id": "53c4064f",
   "metadata": {},
   "outputs": [
    {
     "data": {
      "text/plain": [
       "array([[-0.80610228,  0.96644036, -2.00822755,  0.31331019],\n",
       "       [-0.14466352, -1.65282454,  0.51702198,  1.04422024],\n",
       "       [ 0.12455132, -0.02252261,  0.19246868, -1.05422527],\n",
       "       [ 0.18251811,  1.04522922, -0.66175611, -1.55831174],\n",
       "       [-0.87575348, -0.51525736,  1.2943578 , -1.15198234],\n",
       "       [-1.09948481,  0.43789637,  0.5346143 , -0.4828299 ]])"
      ]
     },
     "execution_count": 60,
     "metadata": {},
     "output_type": "execute_result"
    }
   ],
   "source": [
    "df.to_numpy()"
   ]
  },
  {
   "cell_type": "markdown",
   "id": "3ee413c8",
   "metadata": {},
   "source": [
    "NumPy arrays have one dtype for the entire array while pandas DataFrames have one dtype per column"
   ]
  },
  {
   "cell_type": "code",
   "execution_count": 61,
   "id": "86f3ced0",
   "metadata": {},
   "outputs": [
    {
     "data": {
      "text/plain": [
       "array([[1.0, Timestamp('2013-01-02 00:00:00'), 1, 3, 'test', 'foo'],\n",
       "       [1.0, Timestamp('2013-01-02 00:00:00'), 2, 3, 'train', 'foo'],\n",
       "       [1.0, Timestamp('2013-01-02 00:00:00'), 3, 3, 'test', 'foo'],\n",
       "       [1.0, Timestamp('2013-01-02 00:00:00'), 4, 3, 'train', 'foo']],\n",
       "      dtype=object)"
      ]
     },
     "execution_count": 61,
     "metadata": {},
     "output_type": "execute_result"
    }
   ],
   "source": [
    "df2.to_numpy()"
   ]
  },
  {
   "cell_type": "code",
   "execution_count": 62,
   "id": "ae018a3c",
   "metadata": {},
   "outputs": [
    {
     "data": {
      "text/html": [
       "<div>\n",
       "<style scoped>\n",
       "    .dataframe tbody tr th:only-of-type {\n",
       "        vertical-align: middle;\n",
       "    }\n",
       "\n",
       "    .dataframe tbody tr th {\n",
       "        vertical-align: top;\n",
       "    }\n",
       "\n",
       "    .dataframe thead th {\n",
       "        text-align: right;\n",
       "    }\n",
       "</style>\n",
       "<table border=\"1\" class=\"dataframe\">\n",
       "  <thead>\n",
       "    <tr style=\"text-align: right;\">\n",
       "      <th></th>\n",
       "      <th>A</th>\n",
       "      <th>B</th>\n",
       "      <th>C</th>\n",
       "      <th>D</th>\n",
       "    </tr>\n",
       "  </thead>\n",
       "  <tbody>\n",
       "    <tr>\n",
       "      <th>count</th>\n",
       "      <td>6.000000</td>\n",
       "      <td>6.000000</td>\n",
       "      <td>6.000000</td>\n",
       "      <td>6.000000</td>\n",
       "    </tr>\n",
       "    <tr>\n",
       "      <th>mean</th>\n",
       "      <td>-0.436489</td>\n",
       "      <td>0.043160</td>\n",
       "      <td>-0.021920</td>\n",
       "      <td>-0.481636</td>\n",
       "    </tr>\n",
       "    <tr>\n",
       "      <th>std</th>\n",
       "      <td>0.557177</td>\n",
       "      <td>1.020286</td>\n",
       "      <td>1.160478</td>\n",
       "      <td>0.989609</td>\n",
       "    </tr>\n",
       "    <tr>\n",
       "      <th>min</th>\n",
       "      <td>-1.099485</td>\n",
       "      <td>-1.652825</td>\n",
       "      <td>-2.008228</td>\n",
       "      <td>-1.558312</td>\n",
       "    </tr>\n",
       "    <tr>\n",
       "      <th>25%</th>\n",
       "      <td>-0.858341</td>\n",
       "      <td>-0.392074</td>\n",
       "      <td>-0.448200</td>\n",
       "      <td>-1.127543</td>\n",
       "    </tr>\n",
       "    <tr>\n",
       "      <th>50%</th>\n",
       "      <td>-0.475383</td>\n",
       "      <td>0.207687</td>\n",
       "      <td>0.354745</td>\n",
       "      <td>-0.768528</td>\n",
       "    </tr>\n",
       "    <tr>\n",
       "      <th>75%</th>\n",
       "      <td>0.057248</td>\n",
       "      <td>0.834304</td>\n",
       "      <td>0.530216</td>\n",
       "      <td>0.114275</td>\n",
       "    </tr>\n",
       "    <tr>\n",
       "      <th>max</th>\n",
       "      <td>0.182518</td>\n",
       "      <td>1.045229</td>\n",
       "      <td>1.294358</td>\n",
       "      <td>1.044220</td>\n",
       "    </tr>\n",
       "  </tbody>\n",
       "</table>\n",
       "</div>"
      ],
      "text/plain": [
       "              A         B         C         D\n",
       "count  6.000000  6.000000  6.000000  6.000000\n",
       "mean  -0.436489  0.043160 -0.021920 -0.481636\n",
       "std    0.557177  1.020286  1.160478  0.989609\n",
       "min   -1.099485 -1.652825 -2.008228 -1.558312\n",
       "25%   -0.858341 -0.392074 -0.448200 -1.127543\n",
       "50%   -0.475383  0.207687  0.354745 -0.768528\n",
       "75%    0.057248  0.834304  0.530216  0.114275\n",
       "max    0.182518  1.045229  1.294358  1.044220"
      ]
     },
     "execution_count": 62,
     "metadata": {},
     "output_type": "execute_result"
    }
   ],
   "source": [
    "df.describe()"
   ]
  },
  {
   "cell_type": "markdown",
   "id": "71cf8da3",
   "metadata": {},
   "source": [
    "Transpose"
   ]
  },
  {
   "cell_type": "code",
   "execution_count": 63,
   "id": "6c62cf90",
   "metadata": {},
   "outputs": [
    {
     "data": {
      "text/html": [
       "<div>\n",
       "<style scoped>\n",
       "    .dataframe tbody tr th:only-of-type {\n",
       "        vertical-align: middle;\n",
       "    }\n",
       "\n",
       "    .dataframe tbody tr th {\n",
       "        vertical-align: top;\n",
       "    }\n",
       "\n",
       "    .dataframe thead th {\n",
       "        text-align: right;\n",
       "    }\n",
       "</style>\n",
       "<table border=\"1\" class=\"dataframe\">\n",
       "  <thead>\n",
       "    <tr style=\"text-align: right;\">\n",
       "      <th></th>\n",
       "      <th>2017-02-11</th>\n",
       "      <th>2017-02-12</th>\n",
       "      <th>2017-02-13</th>\n",
       "      <th>2017-02-14</th>\n",
       "      <th>2017-02-15</th>\n",
       "      <th>2017-02-16</th>\n",
       "    </tr>\n",
       "  </thead>\n",
       "  <tbody>\n",
       "    <tr>\n",
       "      <th>A</th>\n",
       "      <td>-0.806102</td>\n",
       "      <td>-0.144664</td>\n",
       "      <td>0.124551</td>\n",
       "      <td>0.182518</td>\n",
       "      <td>-0.875753</td>\n",
       "      <td>-1.099485</td>\n",
       "    </tr>\n",
       "    <tr>\n",
       "      <th>B</th>\n",
       "      <td>0.966440</td>\n",
       "      <td>-1.652825</td>\n",
       "      <td>-0.022523</td>\n",
       "      <td>1.045229</td>\n",
       "      <td>-0.515257</td>\n",
       "      <td>0.437896</td>\n",
       "    </tr>\n",
       "    <tr>\n",
       "      <th>C</th>\n",
       "      <td>-2.008228</td>\n",
       "      <td>0.517022</td>\n",
       "      <td>0.192469</td>\n",
       "      <td>-0.661756</td>\n",
       "      <td>1.294358</td>\n",
       "      <td>0.534614</td>\n",
       "    </tr>\n",
       "    <tr>\n",
       "      <th>D</th>\n",
       "      <td>0.313310</td>\n",
       "      <td>1.044220</td>\n",
       "      <td>-1.054225</td>\n",
       "      <td>-1.558312</td>\n",
       "      <td>-1.151982</td>\n",
       "      <td>-0.482830</td>\n",
       "    </tr>\n",
       "  </tbody>\n",
       "</table>\n",
       "</div>"
      ],
      "text/plain": [
       "   2017-02-11  2017-02-12  2017-02-13  2017-02-14  2017-02-15  2017-02-16\n",
       "A   -0.806102   -0.144664    0.124551    0.182518   -0.875753   -1.099485\n",
       "B    0.966440   -1.652825   -0.022523    1.045229   -0.515257    0.437896\n",
       "C   -2.008228    0.517022    0.192469   -0.661756    1.294358    0.534614\n",
       "D    0.313310    1.044220   -1.054225   -1.558312   -1.151982   -0.482830"
      ]
     },
     "execution_count": 63,
     "metadata": {},
     "output_type": "execute_result"
    }
   ],
   "source": [
    "df.T    "
   ]
  },
  {
   "cell_type": "code",
   "execution_count": 64,
   "id": "bf9575d0",
   "metadata": {},
   "outputs": [
    {
     "data": {
      "text/html": [
       "<div>\n",
       "<style scoped>\n",
       "    .dataframe tbody tr th:only-of-type {\n",
       "        vertical-align: middle;\n",
       "    }\n",
       "\n",
       "    .dataframe tbody tr th {\n",
       "        vertical-align: top;\n",
       "    }\n",
       "\n",
       "    .dataframe thead th {\n",
       "        text-align: right;\n",
       "    }\n",
       "</style>\n",
       "<table border=\"1\" class=\"dataframe\">\n",
       "  <thead>\n",
       "    <tr style=\"text-align: right;\">\n",
       "      <th></th>\n",
       "      <th>0</th>\n",
       "      <th>1</th>\n",
       "      <th>2</th>\n",
       "      <th>3</th>\n",
       "    </tr>\n",
       "  </thead>\n",
       "  <tbody>\n",
       "    <tr>\n",
       "      <th>A</th>\n",
       "      <td>1.0</td>\n",
       "      <td>1.0</td>\n",
       "      <td>1.0</td>\n",
       "      <td>1.0</td>\n",
       "    </tr>\n",
       "    <tr>\n",
       "      <th>B</th>\n",
       "      <td>2013-01-02 00:00:00</td>\n",
       "      <td>2013-01-02 00:00:00</td>\n",
       "      <td>2013-01-02 00:00:00</td>\n",
       "      <td>2013-01-02 00:00:00</td>\n",
       "    </tr>\n",
       "    <tr>\n",
       "      <th>C</th>\n",
       "      <td>1</td>\n",
       "      <td>2</td>\n",
       "      <td>3</td>\n",
       "      <td>4</td>\n",
       "    </tr>\n",
       "    <tr>\n",
       "      <th>D</th>\n",
       "      <td>3</td>\n",
       "      <td>3</td>\n",
       "      <td>3</td>\n",
       "      <td>3</td>\n",
       "    </tr>\n",
       "    <tr>\n",
       "      <th>E</th>\n",
       "      <td>test</td>\n",
       "      <td>train</td>\n",
       "      <td>test</td>\n",
       "      <td>train</td>\n",
       "    </tr>\n",
       "    <tr>\n",
       "      <th>F</th>\n",
       "      <td>foo</td>\n",
       "      <td>foo</td>\n",
       "      <td>foo</td>\n",
       "      <td>foo</td>\n",
       "    </tr>\n",
       "  </tbody>\n",
       "</table>\n",
       "</div>"
      ],
      "text/plain": [
       "                     0                    1                    2  \\\n",
       "A                  1.0                  1.0                  1.0   \n",
       "B  2013-01-02 00:00:00  2013-01-02 00:00:00  2013-01-02 00:00:00   \n",
       "C                    1                    2                    3   \n",
       "D                    3                    3                    3   \n",
       "E                 test                train                 test   \n",
       "F                  foo                  foo                  foo   \n",
       "\n",
       "                     3  \n",
       "A                  1.0  \n",
       "B  2013-01-02 00:00:00  \n",
       "C                    4  \n",
       "D                    3  \n",
       "E                train  \n",
       "F                  foo  "
      ]
     },
     "execution_count": 64,
     "metadata": {},
     "output_type": "execute_result"
    }
   ],
   "source": [
    "df2.T"
   ]
  },
  {
   "cell_type": "markdown",
   "id": "e3247624",
   "metadata": {},
   "source": [
    "Sort by an index"
   ]
  },
  {
   "cell_type": "code",
   "execution_count": 65,
   "id": "2887f70e",
   "metadata": {},
   "outputs": [
    {
     "data": {
      "text/html": [
       "<div>\n",
       "<style scoped>\n",
       "    .dataframe tbody tr th:only-of-type {\n",
       "        vertical-align: middle;\n",
       "    }\n",
       "\n",
       "    .dataframe tbody tr th {\n",
       "        vertical-align: top;\n",
       "    }\n",
       "\n",
       "    .dataframe thead th {\n",
       "        text-align: right;\n",
       "    }\n",
       "</style>\n",
       "<table border=\"1\" class=\"dataframe\">\n",
       "  <thead>\n",
       "    <tr style=\"text-align: right;\">\n",
       "      <th></th>\n",
       "      <th>D</th>\n",
       "      <th>C</th>\n",
       "      <th>B</th>\n",
       "      <th>A</th>\n",
       "    </tr>\n",
       "  </thead>\n",
       "  <tbody>\n",
       "    <tr>\n",
       "      <th>2017-02-11</th>\n",
       "      <td>0.313310</td>\n",
       "      <td>-2.008228</td>\n",
       "      <td>0.966440</td>\n",
       "      <td>-0.806102</td>\n",
       "    </tr>\n",
       "    <tr>\n",
       "      <th>2017-02-12</th>\n",
       "      <td>1.044220</td>\n",
       "      <td>0.517022</td>\n",
       "      <td>-1.652825</td>\n",
       "      <td>-0.144664</td>\n",
       "    </tr>\n",
       "    <tr>\n",
       "      <th>2017-02-13</th>\n",
       "      <td>-1.054225</td>\n",
       "      <td>0.192469</td>\n",
       "      <td>-0.022523</td>\n",
       "      <td>0.124551</td>\n",
       "    </tr>\n",
       "    <tr>\n",
       "      <th>2017-02-14</th>\n",
       "      <td>-1.558312</td>\n",
       "      <td>-0.661756</td>\n",
       "      <td>1.045229</td>\n",
       "      <td>0.182518</td>\n",
       "    </tr>\n",
       "    <tr>\n",
       "      <th>2017-02-15</th>\n",
       "      <td>-1.151982</td>\n",
       "      <td>1.294358</td>\n",
       "      <td>-0.515257</td>\n",
       "      <td>-0.875753</td>\n",
       "    </tr>\n",
       "    <tr>\n",
       "      <th>2017-02-16</th>\n",
       "      <td>-0.482830</td>\n",
       "      <td>0.534614</td>\n",
       "      <td>0.437896</td>\n",
       "      <td>-1.099485</td>\n",
       "    </tr>\n",
       "  </tbody>\n",
       "</table>\n",
       "</div>"
      ],
      "text/plain": [
       "                   D         C         B         A\n",
       "2017-02-11  0.313310 -2.008228  0.966440 -0.806102\n",
       "2017-02-12  1.044220  0.517022 -1.652825 -0.144664\n",
       "2017-02-13 -1.054225  0.192469 -0.022523  0.124551\n",
       "2017-02-14 -1.558312 -0.661756  1.045229  0.182518\n",
       "2017-02-15 -1.151982  1.294358 -0.515257 -0.875753\n",
       "2017-02-16 -0.482830  0.534614  0.437896 -1.099485"
      ]
     },
     "execution_count": 65,
     "metadata": {},
     "output_type": "execute_result"
    }
   ],
   "source": [
    "df.sort_index(axis=1, ascending=False)"
   ]
  },
  {
   "cell_type": "code",
   "execution_count": 66,
   "id": "532ba7de",
   "metadata": {},
   "outputs": [
    {
     "data": {
      "text/html": [
       "<div>\n",
       "<style scoped>\n",
       "    .dataframe tbody tr th:only-of-type {\n",
       "        vertical-align: middle;\n",
       "    }\n",
       "\n",
       "    .dataframe tbody tr th {\n",
       "        vertical-align: top;\n",
       "    }\n",
       "\n",
       "    .dataframe thead th {\n",
       "        text-align: right;\n",
       "    }\n",
       "</style>\n",
       "<table border=\"1\" class=\"dataframe\">\n",
       "  <thead>\n",
       "    <tr style=\"text-align: right;\">\n",
       "      <th></th>\n",
       "      <th>A</th>\n",
       "      <th>B</th>\n",
       "      <th>C</th>\n",
       "      <th>D</th>\n",
       "    </tr>\n",
       "  </thead>\n",
       "  <tbody>\n",
       "    <tr>\n",
       "      <th>2017-02-12</th>\n",
       "      <td>-0.144664</td>\n",
       "      <td>-1.652825</td>\n",
       "      <td>0.517022</td>\n",
       "      <td>1.044220</td>\n",
       "    </tr>\n",
       "    <tr>\n",
       "      <th>2017-02-15</th>\n",
       "      <td>-0.875753</td>\n",
       "      <td>-0.515257</td>\n",
       "      <td>1.294358</td>\n",
       "      <td>-1.151982</td>\n",
       "    </tr>\n",
       "    <tr>\n",
       "      <th>2017-02-13</th>\n",
       "      <td>0.124551</td>\n",
       "      <td>-0.022523</td>\n",
       "      <td>0.192469</td>\n",
       "      <td>-1.054225</td>\n",
       "    </tr>\n",
       "    <tr>\n",
       "      <th>2017-02-16</th>\n",
       "      <td>-1.099485</td>\n",
       "      <td>0.437896</td>\n",
       "      <td>0.534614</td>\n",
       "      <td>-0.482830</td>\n",
       "    </tr>\n",
       "    <tr>\n",
       "      <th>2017-02-11</th>\n",
       "      <td>-0.806102</td>\n",
       "      <td>0.966440</td>\n",
       "      <td>-2.008228</td>\n",
       "      <td>0.313310</td>\n",
       "    </tr>\n",
       "    <tr>\n",
       "      <th>2017-02-14</th>\n",
       "      <td>0.182518</td>\n",
       "      <td>1.045229</td>\n",
       "      <td>-0.661756</td>\n",
       "      <td>-1.558312</td>\n",
       "    </tr>\n",
       "  </tbody>\n",
       "</table>\n",
       "</div>"
      ],
      "text/plain": [
       "                   A         B         C         D\n",
       "2017-02-12 -0.144664 -1.652825  0.517022  1.044220\n",
       "2017-02-15 -0.875753 -0.515257  1.294358 -1.151982\n",
       "2017-02-13  0.124551 -0.022523  0.192469 -1.054225\n",
       "2017-02-16 -1.099485  0.437896  0.534614 -0.482830\n",
       "2017-02-11 -0.806102  0.966440 -2.008228  0.313310\n",
       "2017-02-14  0.182518  1.045229 -0.661756 -1.558312"
      ]
     },
     "execution_count": 66,
     "metadata": {},
     "output_type": "execute_result"
    }
   ],
   "source": [
    "df.sort_values(by=\"B\")"
   ]
  },
  {
   "cell_type": "markdown",
   "id": "745199ef",
   "metadata": {},
   "source": [
    "## GetItem([])"
   ]
  },
  {
   "cell_type": "code",
   "execution_count": 67,
   "id": "180c4324",
   "metadata": {},
   "outputs": [
    {
     "data": {
      "text/plain": [
       "2017-02-11   -0.806102\n",
       "2017-02-12   -0.144664\n",
       "2017-02-13    0.124551\n",
       "2017-02-14    0.182518\n",
       "2017-02-15   -0.875753\n",
       "2017-02-16   -1.099485\n",
       "Freq: D, Name: A, dtype: float64"
      ]
     },
     "execution_count": 67,
     "metadata": {},
     "output_type": "execute_result"
    }
   ],
   "source": [
    "df['A']"
   ]
  },
  {
   "cell_type": "code",
   "execution_count": 68,
   "id": "4d844a49",
   "metadata": {},
   "outputs": [
    {
     "data": {
      "text/html": [
       "<div>\n",
       "<style scoped>\n",
       "    .dataframe tbody tr th:only-of-type {\n",
       "        vertical-align: middle;\n",
       "    }\n",
       "\n",
       "    .dataframe tbody tr th {\n",
       "        vertical-align: top;\n",
       "    }\n",
       "\n",
       "    .dataframe thead th {\n",
       "        text-align: right;\n",
       "    }\n",
       "</style>\n",
       "<table border=\"1\" class=\"dataframe\">\n",
       "  <thead>\n",
       "    <tr style=\"text-align: right;\">\n",
       "      <th></th>\n",
       "      <th>A</th>\n",
       "      <th>B</th>\n",
       "      <th>C</th>\n",
       "      <th>D</th>\n",
       "      <th>E</th>\n",
       "      <th>F</th>\n",
       "    </tr>\n",
       "  </thead>\n",
       "  <tbody>\n",
       "    <tr>\n",
       "      <th>0</th>\n",
       "      <td>1.0</td>\n",
       "      <td>2013-01-02</td>\n",
       "      <td>1</td>\n",
       "      <td>3</td>\n",
       "      <td>test</td>\n",
       "      <td>foo</td>\n",
       "    </tr>\n",
       "    <tr>\n",
       "      <th>1</th>\n",
       "      <td>1.0</td>\n",
       "      <td>2013-01-02</td>\n",
       "      <td>2</td>\n",
       "      <td>3</td>\n",
       "      <td>train</td>\n",
       "      <td>foo</td>\n",
       "    </tr>\n",
       "    <tr>\n",
       "      <th>2</th>\n",
       "      <td>1.0</td>\n",
       "      <td>2013-01-02</td>\n",
       "      <td>3</td>\n",
       "      <td>3</td>\n",
       "      <td>test</td>\n",
       "      <td>foo</td>\n",
       "    </tr>\n",
       "    <tr>\n",
       "      <th>3</th>\n",
       "      <td>1.0</td>\n",
       "      <td>2013-01-02</td>\n",
       "      <td>4</td>\n",
       "      <td>3</td>\n",
       "      <td>train</td>\n",
       "      <td>foo</td>\n",
       "    </tr>\n",
       "  </tbody>\n",
       "</table>\n",
       "</div>"
      ],
      "text/plain": [
       "     A          B  C  D      E    F\n",
       "0  1.0 2013-01-02  1  3   test  foo\n",
       "1  1.0 2013-01-02  2  3  train  foo\n",
       "2  1.0 2013-01-02  3  3   test  foo\n",
       "3  1.0 2013-01-02  4  3  train  foo"
      ]
     },
     "execution_count": 68,
     "metadata": {},
     "output_type": "execute_result"
    }
   ],
   "source": [
    "df2"
   ]
  },
  {
   "cell_type": "code",
   "execution_count": 69,
   "id": "ee33eed1",
   "metadata": {},
   "outputs": [
    {
     "data": {
      "text/html": [
       "<div>\n",
       "<style scoped>\n",
       "    .dataframe tbody tr th:only-of-type {\n",
       "        vertical-align: middle;\n",
       "    }\n",
       "\n",
       "    .dataframe tbody tr th {\n",
       "        vertical-align: top;\n",
       "    }\n",
       "\n",
       "    .dataframe thead th {\n",
       "        text-align: right;\n",
       "    }\n",
       "</style>\n",
       "<table border=\"1\" class=\"dataframe\">\n",
       "  <thead>\n",
       "    <tr style=\"text-align: right;\">\n",
       "      <th></th>\n",
       "      <th>A</th>\n",
       "      <th>B</th>\n",
       "      <th>C</th>\n",
       "      <th>D</th>\n",
       "      <th>E</th>\n",
       "      <th>F</th>\n",
       "    </tr>\n",
       "  </thead>\n",
       "  <tbody>\n",
       "    <tr>\n",
       "      <th>0</th>\n",
       "      <td>1.0</td>\n",
       "      <td>2013-01-02</td>\n",
       "      <td>1</td>\n",
       "      <td>3</td>\n",
       "      <td>test</td>\n",
       "      <td>foo</td>\n",
       "    </tr>\n",
       "    <tr>\n",
       "      <th>1</th>\n",
       "      <td>1.0</td>\n",
       "      <td>2013-01-02</td>\n",
       "      <td>2</td>\n",
       "      <td>3</td>\n",
       "      <td>train</td>\n",
       "      <td>foo</td>\n",
       "    </tr>\n",
       "    <tr>\n",
       "      <th>2</th>\n",
       "      <td>1.0</td>\n",
       "      <td>2013-01-02</td>\n",
       "      <td>3</td>\n",
       "      <td>3</td>\n",
       "      <td>test</td>\n",
       "      <td>foo</td>\n",
       "    </tr>\n",
       "  </tbody>\n",
       "</table>\n",
       "</div>"
      ],
      "text/plain": [
       "     A          B  C  D      E    F\n",
       "0  1.0 2013-01-02  1  3   test  foo\n",
       "1  1.0 2013-01-02  2  3  train  foo\n",
       "2  1.0 2013-01-02  3  3   test  foo"
      ]
     },
     "execution_count": 69,
     "metadata": {},
     "output_type": "execute_result"
    }
   ],
   "source": [
    "df2[0:3]"
   ]
  },
  {
   "cell_type": "code",
   "execution_count": 70,
   "id": "3ef89b61",
   "metadata": {},
   "outputs": [
    {
     "data": {
      "text/html": [
       "<div>\n",
       "<style scoped>\n",
       "    .dataframe tbody tr th:only-of-type {\n",
       "        vertical-align: middle;\n",
       "    }\n",
       "\n",
       "    .dataframe tbody tr th {\n",
       "        vertical-align: top;\n",
       "    }\n",
       "\n",
       "    .dataframe thead th {\n",
       "        text-align: right;\n",
       "    }\n",
       "</style>\n",
       "<table border=\"1\" class=\"dataframe\">\n",
       "  <thead>\n",
       "    <tr style=\"text-align: right;\">\n",
       "      <th></th>\n",
       "      <th>A</th>\n",
       "      <th>B</th>\n",
       "      <th>C</th>\n",
       "      <th>D</th>\n",
       "    </tr>\n",
       "  </thead>\n",
       "  <tbody>\n",
       "    <tr>\n",
       "      <th>2017-02-11</th>\n",
       "      <td>-0.806102</td>\n",
       "      <td>0.966440</td>\n",
       "      <td>-2.008228</td>\n",
       "      <td>0.313310</td>\n",
       "    </tr>\n",
       "    <tr>\n",
       "      <th>2017-02-12</th>\n",
       "      <td>-0.144664</td>\n",
       "      <td>-1.652825</td>\n",
       "      <td>0.517022</td>\n",
       "      <td>1.044220</td>\n",
       "    </tr>\n",
       "    <tr>\n",
       "      <th>2017-02-13</th>\n",
       "      <td>0.124551</td>\n",
       "      <td>-0.022523</td>\n",
       "      <td>0.192469</td>\n",
       "      <td>-1.054225</td>\n",
       "    </tr>\n",
       "    <tr>\n",
       "      <th>2017-02-14</th>\n",
       "      <td>0.182518</td>\n",
       "      <td>1.045229</td>\n",
       "      <td>-0.661756</td>\n",
       "      <td>-1.558312</td>\n",
       "    </tr>\n",
       "    <tr>\n",
       "      <th>2017-02-15</th>\n",
       "      <td>-0.875753</td>\n",
       "      <td>-0.515257</td>\n",
       "      <td>1.294358</td>\n",
       "      <td>-1.151982</td>\n",
       "    </tr>\n",
       "    <tr>\n",
       "      <th>2017-02-16</th>\n",
       "      <td>-1.099485</td>\n",
       "      <td>0.437896</td>\n",
       "      <td>0.534614</td>\n",
       "      <td>-0.482830</td>\n",
       "    </tr>\n",
       "  </tbody>\n",
       "</table>\n",
       "</div>"
      ],
      "text/plain": [
       "                   A         B         C         D\n",
       "2017-02-11 -0.806102  0.966440 -2.008228  0.313310\n",
       "2017-02-12 -0.144664 -1.652825  0.517022  1.044220\n",
       "2017-02-13  0.124551 -0.022523  0.192469 -1.054225\n",
       "2017-02-14  0.182518  1.045229 -0.661756 -1.558312\n",
       "2017-02-15 -0.875753 -0.515257  1.294358 -1.151982\n",
       "2017-02-16 -1.099485  0.437896  0.534614 -0.482830"
      ]
     },
     "execution_count": 70,
     "metadata": {},
     "output_type": "execute_result"
    }
   ],
   "source": [
    "df"
   ]
  },
  {
   "cell_type": "markdown",
   "id": "575332b2",
   "metadata": {},
   "source": [
    "# Selection by label"
   ]
  },
  {
   "cell_type": "code",
   "execution_count": 71,
   "id": "3cfc235d",
   "metadata": {},
   "outputs": [
    {
     "data": {
      "text/plain": [
       "A   -0.806102\n",
       "B    0.966440\n",
       "C   -2.008228\n",
       "D    0.313310\n",
       "Name: 2017-02-11 00:00:00, dtype: float64"
      ]
     },
     "execution_count": 71,
     "metadata": {},
     "output_type": "execute_result"
    }
   ],
   "source": [
    "df.loc[dates[0]]"
   ]
  },
  {
   "cell_type": "markdown",
   "id": "f3bddd83",
   "metadata": {},
   "source": [
    "Selecting all rows (:) with a select column labels:"
   ]
  },
  {
   "cell_type": "code",
   "execution_count": 72,
   "id": "8694657b",
   "metadata": {},
   "outputs": [
    {
     "data": {
      "text/html": [
       "<div>\n",
       "<style scoped>\n",
       "    .dataframe tbody tr th:only-of-type {\n",
       "        vertical-align: middle;\n",
       "    }\n",
       "\n",
       "    .dataframe tbody tr th {\n",
       "        vertical-align: top;\n",
       "    }\n",
       "\n",
       "    .dataframe thead th {\n",
       "        text-align: right;\n",
       "    }\n",
       "</style>\n",
       "<table border=\"1\" class=\"dataframe\">\n",
       "  <thead>\n",
       "    <tr style=\"text-align: right;\">\n",
       "      <th></th>\n",
       "      <th>A</th>\n",
       "      <th>B</th>\n",
       "    </tr>\n",
       "  </thead>\n",
       "  <tbody>\n",
       "    <tr>\n",
       "      <th>2017-02-11</th>\n",
       "      <td>-0.806102</td>\n",
       "      <td>0.966440</td>\n",
       "    </tr>\n",
       "    <tr>\n",
       "      <th>2017-02-12</th>\n",
       "      <td>-0.144664</td>\n",
       "      <td>-1.652825</td>\n",
       "    </tr>\n",
       "    <tr>\n",
       "      <th>2017-02-13</th>\n",
       "      <td>0.124551</td>\n",
       "      <td>-0.022523</td>\n",
       "    </tr>\n",
       "    <tr>\n",
       "      <th>2017-02-14</th>\n",
       "      <td>0.182518</td>\n",
       "      <td>1.045229</td>\n",
       "    </tr>\n",
       "    <tr>\n",
       "      <th>2017-02-15</th>\n",
       "      <td>-0.875753</td>\n",
       "      <td>-0.515257</td>\n",
       "    </tr>\n",
       "    <tr>\n",
       "      <th>2017-02-16</th>\n",
       "      <td>-1.099485</td>\n",
       "      <td>0.437896</td>\n",
       "    </tr>\n",
       "  </tbody>\n",
       "</table>\n",
       "</div>"
      ],
      "text/plain": [
       "                   A         B\n",
       "2017-02-11 -0.806102  0.966440\n",
       "2017-02-12 -0.144664 -1.652825\n",
       "2017-02-13  0.124551 -0.022523\n",
       "2017-02-14  0.182518  1.045229\n",
       "2017-02-15 -0.875753 -0.515257\n",
       "2017-02-16 -1.099485  0.437896"
      ]
     },
     "execution_count": 72,
     "metadata": {},
     "output_type": "execute_result"
    }
   ],
   "source": [
    "df.loc[:,['A','B']]"
   ]
  },
  {
   "cell_type": "code",
   "execution_count": 73,
   "id": "9ae9d3ff",
   "metadata": {},
   "outputs": [
    {
     "data": {
      "text/html": [
       "<div>\n",
       "<style scoped>\n",
       "    .dataframe tbody tr th:only-of-type {\n",
       "        vertical-align: middle;\n",
       "    }\n",
       "\n",
       "    .dataframe tbody tr th {\n",
       "        vertical-align: top;\n",
       "    }\n",
       "\n",
       "    .dataframe thead th {\n",
       "        text-align: right;\n",
       "    }\n",
       "</style>\n",
       "<table border=\"1\" class=\"dataframe\">\n",
       "  <thead>\n",
       "    <tr style=\"text-align: right;\">\n",
       "      <th></th>\n",
       "      <th>A</th>\n",
       "      <th>B</th>\n",
       "    </tr>\n",
       "  </thead>\n",
       "  <tbody>\n",
       "    <tr>\n",
       "      <th>2017-02-12</th>\n",
       "      <td>-0.144664</td>\n",
       "      <td>-1.652825</td>\n",
       "    </tr>\n",
       "    <tr>\n",
       "      <th>2017-02-13</th>\n",
       "      <td>0.124551</td>\n",
       "      <td>-0.022523</td>\n",
       "    </tr>\n",
       "    <tr>\n",
       "      <th>2017-02-14</th>\n",
       "      <td>0.182518</td>\n",
       "      <td>1.045229</td>\n",
       "    </tr>\n",
       "  </tbody>\n",
       "</table>\n",
       "</div>"
      ],
      "text/plain": [
       "                   A         B\n",
       "2017-02-12 -0.144664 -1.652825\n",
       "2017-02-13  0.124551 -0.022523\n",
       "2017-02-14  0.182518  1.045229"
      ]
     },
     "execution_count": 73,
     "metadata": {},
     "output_type": "execute_result"
    }
   ],
   "source": [
    "df.loc['20170212':'20170214',['A','B']]"
   ]
  },
  {
   "cell_type": "code",
   "execution_count": 74,
   "id": "7ea4ad1d",
   "metadata": {},
   "outputs": [
    {
     "data": {
      "text/plain": [
       "A   -0.806102\n",
       "Name: 2017-02-11 00:00:00, dtype: float64"
      ]
     },
     "execution_count": 74,
     "metadata": {},
     "output_type": "execute_result"
    }
   ],
   "source": [
    "df.loc[dates[0], [\"A\"]]"
   ]
  },
  {
   "cell_type": "code",
   "execution_count": 75,
   "id": "4992a228",
   "metadata": {},
   "outputs": [
    {
     "data": {
      "text/plain": [
       "-0.8061022785496211"
      ]
     },
     "execution_count": 75,
     "metadata": {},
     "output_type": "execute_result"
    }
   ],
   "source": [
    "df.at[dates[0], 'A']"
   ]
  },
  {
   "cell_type": "markdown",
   "metadata": {},
   "source": [
    "# Selection by position"
   ]
  },
  {
   "cell_type": "code",
   "execution_count": 77,
   "metadata": {},
   "outputs": [
    {
     "data": {
      "text/html": [
       "<div>\n",
       "<style scoped>\n",
       "    .dataframe tbody tr th:only-of-type {\n",
       "        vertical-align: middle;\n",
       "    }\n",
       "\n",
       "    .dataframe tbody tr th {\n",
       "        vertical-align: top;\n",
       "    }\n",
       "\n",
       "    .dataframe thead th {\n",
       "        text-align: right;\n",
       "    }\n",
       "</style>\n",
       "<table border=\"1\" class=\"dataframe\">\n",
       "  <thead>\n",
       "    <tr style=\"text-align: right;\">\n",
       "      <th></th>\n",
       "      <th>A</th>\n",
       "      <th>B</th>\n",
       "      <th>C</th>\n",
       "      <th>D</th>\n",
       "    </tr>\n",
       "  </thead>\n",
       "  <tbody>\n",
       "    <tr>\n",
       "      <th>2017-02-11</th>\n",
       "      <td>-0.806102</td>\n",
       "      <td>0.966440</td>\n",
       "      <td>-2.008228</td>\n",
       "      <td>0.313310</td>\n",
       "    </tr>\n",
       "    <tr>\n",
       "      <th>2017-02-12</th>\n",
       "      <td>-0.144664</td>\n",
       "      <td>-1.652825</td>\n",
       "      <td>0.517022</td>\n",
       "      <td>1.044220</td>\n",
       "    </tr>\n",
       "    <tr>\n",
       "      <th>2017-02-13</th>\n",
       "      <td>0.124551</td>\n",
       "      <td>-0.022523</td>\n",
       "      <td>0.192469</td>\n",
       "      <td>-1.054225</td>\n",
       "    </tr>\n",
       "    <tr>\n",
       "      <th>2017-02-14</th>\n",
       "      <td>0.182518</td>\n",
       "      <td>1.045229</td>\n",
       "      <td>-0.661756</td>\n",
       "      <td>-1.558312</td>\n",
       "    </tr>\n",
       "    <tr>\n",
       "      <th>2017-02-15</th>\n",
       "      <td>-0.875753</td>\n",
       "      <td>-0.515257</td>\n",
       "      <td>1.294358</td>\n",
       "      <td>-1.151982</td>\n",
       "    </tr>\n",
       "    <tr>\n",
       "      <th>2017-02-16</th>\n",
       "      <td>-1.099485</td>\n",
       "      <td>0.437896</td>\n",
       "      <td>0.534614</td>\n",
       "      <td>-0.482830</td>\n",
       "    </tr>\n",
       "  </tbody>\n",
       "</table>\n",
       "</div>"
      ],
      "text/plain": [
       "                   A         B         C         D\n",
       "2017-02-11 -0.806102  0.966440 -2.008228  0.313310\n",
       "2017-02-12 -0.144664 -1.652825  0.517022  1.044220\n",
       "2017-02-13  0.124551 -0.022523  0.192469 -1.054225\n",
       "2017-02-14  0.182518  1.045229 -0.661756 -1.558312\n",
       "2017-02-15 -0.875753 -0.515257  1.294358 -1.151982\n",
       "2017-02-16 -1.099485  0.437896  0.534614 -0.482830"
      ]
     },
     "execution_count": 77,
     "metadata": {},
     "output_type": "execute_result"
    }
   ],
   "source": [
    "df"
   ]
  },
  {
   "cell_type": "code",
   "execution_count": 76,
   "metadata": {},
   "outputs": [
    {
     "data": {
      "text/plain": [
       "A    0.182518\n",
       "B    1.045229\n",
       "C   -0.661756\n",
       "D   -1.558312\n",
       "Name: 2017-02-14 00:00:00, dtype: float64"
      ]
     },
     "execution_count": 76,
     "metadata": {},
     "output_type": "execute_result"
    }
   ],
   "source": [
    "df.iloc[3]"
   ]
  },
  {
   "cell_type": "code",
   "execution_count": 78,
   "metadata": {},
   "outputs": [
    {
     "data": {
      "text/html": [
       "<div>\n",
       "<style scoped>\n",
       "    .dataframe tbody tr th:only-of-type {\n",
       "        vertical-align: middle;\n",
       "    }\n",
       "\n",
       "    .dataframe tbody tr th {\n",
       "        vertical-align: top;\n",
       "    }\n",
       "\n",
       "    .dataframe thead th {\n",
       "        text-align: right;\n",
       "    }\n",
       "</style>\n",
       "<table border=\"1\" class=\"dataframe\">\n",
       "  <thead>\n",
       "    <tr style=\"text-align: right;\">\n",
       "      <th></th>\n",
       "      <th>A</th>\n",
       "      <th>B</th>\n",
       "    </tr>\n",
       "  </thead>\n",
       "  <tbody>\n",
       "    <tr>\n",
       "      <th>2017-02-14</th>\n",
       "      <td>0.182518</td>\n",
       "      <td>1.045229</td>\n",
       "    </tr>\n",
       "    <tr>\n",
       "      <th>2017-02-15</th>\n",
       "      <td>-0.875753</td>\n",
       "      <td>-0.515257</td>\n",
       "    </tr>\n",
       "  </tbody>\n",
       "</table>\n",
       "</div>"
      ],
      "text/plain": [
       "                   A         B\n",
       "2017-02-14  0.182518  1.045229\n",
       "2017-02-15 -0.875753 -0.515257"
      ]
     },
     "execution_count": 78,
     "metadata": {},
     "output_type": "execute_result"
    }
   ],
   "source": [
    "df.iloc[3:5, 0:2]"
   ]
  },
  {
   "cell_type": "code",
   "execution_count": 79,
   "metadata": {},
   "outputs": [
    {
     "data": {
      "text/html": [
       "<div>\n",
       "<style scoped>\n",
       "    .dataframe tbody tr th:only-of-type {\n",
       "        vertical-align: middle;\n",
       "    }\n",
       "\n",
       "    .dataframe tbody tr th {\n",
       "        vertical-align: top;\n",
       "    }\n",
       "\n",
       "    .dataframe thead th {\n",
       "        text-align: right;\n",
       "    }\n",
       "</style>\n",
       "<table border=\"1\" class=\"dataframe\">\n",
       "  <thead>\n",
       "    <tr style=\"text-align: right;\">\n",
       "      <th></th>\n",
       "      <th>C</th>\n",
       "      <th>D</th>\n",
       "    </tr>\n",
       "  </thead>\n",
       "  <tbody>\n",
       "    <tr>\n",
       "      <th>2017-02-12</th>\n",
       "      <td>0.517022</td>\n",
       "      <td>1.044220</td>\n",
       "    </tr>\n",
       "    <tr>\n",
       "      <th>2017-02-13</th>\n",
       "      <td>0.192469</td>\n",
       "      <td>-1.054225</td>\n",
       "    </tr>\n",
       "    <tr>\n",
       "      <th>2017-02-15</th>\n",
       "      <td>1.294358</td>\n",
       "      <td>-1.151982</td>\n",
       "    </tr>\n",
       "  </tbody>\n",
       "</table>\n",
       "</div>"
      ],
      "text/plain": [
       "                   C         D\n",
       "2017-02-12  0.517022  1.044220\n",
       "2017-02-13  0.192469 -1.054225\n",
       "2017-02-15  1.294358 -1.151982"
      ]
     },
     "execution_count": 79,
     "metadata": {},
     "output_type": "execute_result"
    }
   ],
   "source": [
    "df.iloc[[1,2,4],[2,3]]"
   ]
  },
  {
   "cell_type": "code",
   "execution_count": 81,
   "metadata": {},
   "outputs": [
    {
     "data": {
      "text/html": [
       "<div>\n",
       "<style scoped>\n",
       "    .dataframe tbody tr th:only-of-type {\n",
       "        vertical-align: middle;\n",
       "    }\n",
       "\n",
       "    .dataframe tbody tr th {\n",
       "        vertical-align: top;\n",
       "    }\n",
       "\n",
       "    .dataframe thead th {\n",
       "        text-align: right;\n",
       "    }\n",
       "</style>\n",
       "<table border=\"1\" class=\"dataframe\">\n",
       "  <thead>\n",
       "    <tr style=\"text-align: right;\">\n",
       "      <th></th>\n",
       "      <th>C</th>\n",
       "      <th>D</th>\n",
       "    </tr>\n",
       "  </thead>\n",
       "  <tbody>\n",
       "    <tr>\n",
       "      <th>2017-02-11</th>\n",
       "      <td>-2.008228</td>\n",
       "      <td>0.313310</td>\n",
       "    </tr>\n",
       "    <tr>\n",
       "      <th>2017-02-12</th>\n",
       "      <td>0.517022</td>\n",
       "      <td>1.044220</td>\n",
       "    </tr>\n",
       "    <tr>\n",
       "      <th>2017-02-13</th>\n",
       "      <td>0.192469</td>\n",
       "      <td>-1.054225</td>\n",
       "    </tr>\n",
       "    <tr>\n",
       "      <th>2017-02-14</th>\n",
       "      <td>-0.661756</td>\n",
       "      <td>-1.558312</td>\n",
       "    </tr>\n",
       "    <tr>\n",
       "      <th>2017-02-15</th>\n",
       "      <td>1.294358</td>\n",
       "      <td>-1.151982</td>\n",
       "    </tr>\n",
       "    <tr>\n",
       "      <th>2017-02-16</th>\n",
       "      <td>0.534614</td>\n",
       "      <td>-0.482830</td>\n",
       "    </tr>\n",
       "  </tbody>\n",
       "</table>\n",
       "</div>"
      ],
      "text/plain": [
       "                   C         D\n",
       "2017-02-11 -2.008228  0.313310\n",
       "2017-02-12  0.517022  1.044220\n",
       "2017-02-13  0.192469 -1.054225\n",
       "2017-02-14 -0.661756 -1.558312\n",
       "2017-02-15  1.294358 -1.151982\n",
       "2017-02-16  0.534614 -0.482830"
      ]
     },
     "execution_count": 81,
     "metadata": {},
     "output_type": "execute_result"
    }
   ],
   "source": [
    "df.iloc[:, 2:4]"
   ]
  },
  {
   "cell_type": "code",
   "execution_count": 82,
   "metadata": {},
   "outputs": [
    {
     "data": {
      "text/html": [
       "<div>\n",
       "<style scoped>\n",
       "    .dataframe tbody tr th:only-of-type {\n",
       "        vertical-align: middle;\n",
       "    }\n",
       "\n",
       "    .dataframe tbody tr th {\n",
       "        vertical-align: top;\n",
       "    }\n",
       "\n",
       "    .dataframe thead th {\n",
       "        text-align: right;\n",
       "    }\n",
       "</style>\n",
       "<table border=\"1\" class=\"dataframe\">\n",
       "  <thead>\n",
       "    <tr style=\"text-align: right;\">\n",
       "      <th></th>\n",
       "      <th>A</th>\n",
       "      <th>B</th>\n",
       "      <th>C</th>\n",
       "      <th>D</th>\n",
       "    </tr>\n",
       "  </thead>\n",
       "  <tbody>\n",
       "    <tr>\n",
       "      <th>2017-02-12</th>\n",
       "      <td>-0.144664</td>\n",
       "      <td>-1.652825</td>\n",
       "      <td>0.517022</td>\n",
       "      <td>1.044220</td>\n",
       "    </tr>\n",
       "    <tr>\n",
       "      <th>2017-02-13</th>\n",
       "      <td>0.124551</td>\n",
       "      <td>-0.022523</td>\n",
       "      <td>0.192469</td>\n",
       "      <td>-1.054225</td>\n",
       "    </tr>\n",
       "    <tr>\n",
       "      <th>2017-02-14</th>\n",
       "      <td>0.182518</td>\n",
       "      <td>1.045229</td>\n",
       "      <td>-0.661756</td>\n",
       "      <td>-1.558312</td>\n",
       "    </tr>\n",
       "  </tbody>\n",
       "</table>\n",
       "</div>"
      ],
      "text/plain": [
       "                   A         B         C         D\n",
       "2017-02-12 -0.144664 -1.652825  0.517022  1.044220\n",
       "2017-02-13  0.124551 -0.022523  0.192469 -1.054225\n",
       "2017-02-14  0.182518  1.045229 -0.661756 -1.558312"
      ]
     },
     "execution_count": 82,
     "metadata": {},
     "output_type": "execute_result"
    }
   ],
   "source": [
    "df.iloc[1:4,:]"
   ]
  },
  {
   "cell_type": "code",
   "execution_count": 84,
   "metadata": {},
   "outputs": [
    {
     "data": {
      "text/plain": [
       "-1.6528245413928278"
      ]
     },
     "execution_count": 84,
     "metadata": {},
     "output_type": "execute_result"
    }
   ],
   "source": [
    "df.iloc[1,1]"
   ]
  },
  {
   "cell_type": "code",
   "execution_count": 85,
   "metadata": {},
   "outputs": [
    {
     "data": {
      "text/plain": [
       "-1.6528245413928278"
      ]
     },
     "execution_count": 85,
     "metadata": {},
     "output_type": "execute_result"
    }
   ],
   "source": [
    "df.iat[1,1]"
   ]
  },
  {
   "cell_type": "code",
   "execution_count": null,
   "metadata": {},
   "outputs": [],
   "source": []
  }
 ],
 "metadata": {
  "kernelspec": {
   "display_name": "Python 3 (ipykernel)",
   "language": "python",
   "name": "python3"
  },
  "language_info": {
   "codemirror_mode": {
    "name": "ipython",
    "version": 3
   },
   "file_extension": ".py",
   "mimetype": "text/x-python",
   "name": "python",
   "nbconvert_exporter": "python",
   "pygments_lexer": "ipython3",
   "version": "3.12.0"
  }
 },
 "nbformat": 4,
 "nbformat_minor": 5
}
