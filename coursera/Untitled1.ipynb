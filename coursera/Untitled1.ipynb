{
 "cells": [
  {
   "cell_type": "markdown",
   "id": "2e998539-d58a-4d92-a00e-7e40980ee7ef",
   "metadata": {},
   "source": [
    "# Assignment Submission"
   ]
  },
  {
   "cell_type": "markdown",
   "id": "4e296db7-afcd-49c0-ad9a-25d9d02801e3",
   "metadata": {},
   "source": [
    "## Data Science Languages\n",
    "1. Python\n",
    "2. R\n",
    "3. SQL\n",
    "4. Java\n",
    "5. Scala\n",
    "6. Julia\n",
    "7. JavaScriptScript"
   ]
  },
  {
   "cell_type": "markdown",
   "id": "98df4866-361b-43ff-8613-65125e554f84",
   "metadata": {},
   "source": [
    "## Data Science Libraries\n",
    "1. Numpy\n",
    "2. Pandas\n",
    "3. Scikit-learn\n",
    "4. Matplotlib & Seaborn\n",
    "5. TensorFlow & PyTorch"
   ]
  },
  {
   "cell_type": "markdown",
   "id": "067e0205-6029-4000-9c23-373a3f1c7185",
   "metadata": {},
   "source": [
    "## Data Science Tools\n",
    ":\n",
    "\n",
    "| Category | Tool | Description | Language |\n",
    "|---|---|---|---|\n",
    "| Programming Languages | Python | General-purpose language with extensive data science libraries | Python |\n",
    "|  | R | Language specifically designed for statistical computing and data visualization | R |\n",
    "|  | Scala | Object-oriented language with powerful libraries for big data processing | Scala |\n",
    "| Data Manipulation & Analysis | Pandas (Python) | Offers DataFrames and Series for data wrangling and analysis | Python |\n",
    "|  | dplyr (R) | Provides a concise syntax for data manipulation tasks | R |\n",
    "| Machine Learning | Scikit-learn (Python) | Encompasses a vast collection of machine learning algorithms | Python |\n",
    "|  | caret (R) | Comprehensive toolkit for machine learning model building and evaluation | R |\n",
    "| Deep Learning | TensorFlow (Python) | Framework for building and training complex neural networks | Python |\n",
    "|  | PyTorch (Python) | Another popular deep learning framework with a user-friendly API | Python |\n",
    "| Data Visualization | Matplotlib (Python) | Creates various static visualizations | Python |\n",
    "|  | Seaborn (Python) | Builds upon Matplotlib for high-level statistical visualizations | Python |\n",
    "|  | ggplot2 (R) | Creates a wide variety of customizable data visualizations | R |\n",
    "| Databases | MySQL | Open-source relational database management system | SQL |\n",
    "|  | PostgreSQL | Another popular open-source relational database system | SQL |\n",
    "| Big Data Processing | Spark (Scala/Java) | Distributed processing framework for handling large datasets | Scala/Java |\n",
    "| Version Control | Git | System for tracking changes in code | N/A |\n",
    "| Collaboration | GitHub | Platform for hosting and collaborating on codd tools in data science.\n"
   ]
  },
  {
   "cell_type": "markdown",
   "id": "34cf2f28-368f-4ec1-9838-6e8c29035e3e",
   "metadata": {},
   "source": [
    "# Arithmetic Expression Examples\n",
    "\n",
    "In this section, we will explore some examples of **arithmetic expressions**. Arithmetic expresions are mathematical calculations built from numeric literals, arithmetic operations, and grouping symbols. They are fundamental in almost all programming languages and can perform operations like addition, subtraction, multiplication, division, and modulus. Let's dive into some examples."
   ]
  },
  {
   "cell_type": "code",
   "execution_count": 4,
   "id": "4770b7af-851f-453c-a69d-178a99e3ad8e",
   "metadata": {},
   "outputs": [
    {
     "name": "stdout",
     "output_type": "stream",
     "text": [
      "50\n",
      "15\n"
     ]
    }
   ],
   "source": [
    "num1 = 10 \n",
    "num2 = 5\n",
    "print(num1*num2)\n",
    "print(num1+num2)"
   ]
  },
  {
   "cell_type": "code",
   "execution_count": 5,
   "id": "a61fee1e",
   "metadata": {},
   "outputs": [
    {
     "name": "stdin",
     "output_type": "stream",
     "text": [
      "Enter the number of minutes:  110\n"
     ]
    },
    {
     "name": "stdout",
     "output_type": "stream",
     "text": [
      "110 minutes is equal to 1 hour and 50 minutes.\n"
     ]
    }
   ],
   "source": [
    "def minutes_to_hours(minutes):\n",
    "  if minutes < 0:\n",
    "    raise ValueError(\"Minutes cannot be negative.\")\n",
    "  hours = minutes // 60  # Floor division to get whole hours\n",
    "  remaining_minutes = minutes % 60  # Modulo to get remaining minutes\n",
    "  return hours, remaining_minutes\n",
    "\n",
    "# Get user input for minutes\n",
    "while True:\n",
    "  try:\n",
    "    minutes = int(input(\"Enter the number of minutes: \"))\n",
    "    break\n",
    "  except ValueError:\n",
    "    print(\"Please enter a valid integer number of minutes.\")\n",
    "\n",
    "# Convert minutes and display results\n",
    "hours, remaining_minutes = minutes_to_hours(minutes)\n",
    "\n",
    "if hours == 1:\n",
    "  print(f\"{minutes} minutes is equal to {hours} hour and {remaining_minutes} minutes.\")\n",
    "else:\n",
    "  print(f\"{minutes} minutes is equal to {hours} hours and {remaining_minutes} minutes.\")\n"
   ]
  },
  {
   "cell_type": "markdown",
   "id": "bc4e064b-a70f-4990-b83e-3c53bb39e76b",
   "metadata": {},
   "source": [
    "## Unordered List\n",
    "* Item1\n",
    "* Item2\n",
    "* Item3"
   ]
  },
  {
   "cell_type": "markdown",
   "id": "cbf1604b-fbca-4504-9f86-53d71e617890",
   "metadata": {},
   "source": [
    "---\r\n",
    "title: My Document Title\r\n",
    "authorSouI)\r\n",
    "date: 2024-03-28\r\n",
    "---\r\n",
    "\r\n",
    "This document explores...\r\n"
   ]
  },
  {
   "cell_type": "code",
   "execution_count": null,
   "id": "a7f787d2-079e-4a11-9928-105d5637945b",
   "metadata": {},
   "outputs": [],
   "source": []
  }
 ],
 "metadata": {
  "kernelspec": {
   "display_name": "Python 3 (ipykernel)",
   "language": "python",
   "name": "python3"
  },
  "language_info": {
   "codemirror_mode": {
    "name": "ipython",
    "version": 3
   },
   "file_extension": ".py",
   "mimetype": "text/x-python",
   "name": "python",
   "nbconvert_exporter": "python",
   "pygments_lexer": "ipython3",
   "version": "3.12.0"
  }
 },
 "nbformat": 4,
 "nbformat_minor": 5
}
