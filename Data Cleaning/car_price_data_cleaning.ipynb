{
 "cells": [
  {
   "cell_type": "markdown",
   "id": "f36dcac6-08aa-4090-8c99-3591108368d6",
   "metadata": {},
   "source": [
    "# Data cleaning for Data AnaLysis"
   ]
  },
  {
   "cell_type": "code",
   "execution_count": 1,
   "id": "0fc6d673-d121-4ed1-9404-b6b1296f42c0",
   "metadata": {},
   "outputs": [],
   "source": [
    "# !pip install matplotlib"
   ]
  },
  {
   "cell_type": "code",
   "execution_count": 2,
   "id": "b4af18c1-9b56-46a3-8f96-5c8b58765889",
   "metadata": {},
   "outputs": [],
   "source": [
    "# !pip install seaborn"
   ]
  },
  {
   "cell_type": "code",
   "execution_count": 93,
   "id": "1046784a-7003-4546-be7f-396ab1c84ca9",
   "metadata": {},
   "outputs": [],
   "source": [
    "import pandas as pd \n",
    "import matplotlib.pyplot as plt\n",
    "import seaborn as sns\n",
    "import numpy as np"
   ]
  },
  {
   "cell_type": "code",
   "execution_count": 4,
   "id": "506fec01-4d84-429e-9216-5e2097583f61",
   "metadata": {},
   "outputs": [],
   "source": [
    "dataset = pd.read_csv('car_price.csv')"
   ]
  },
  {
   "cell_type": "code",
   "execution_count": 5,
   "id": "e7638d85-a3da-4f12-a82b-c14c51ca870e",
   "metadata": {},
   "outputs": [
    {
     "data": {
      "text/html": [
       "<div>\n",
       "<style scoped>\n",
       "    .dataframe tbody tr th:only-of-type {\n",
       "        vertical-align: middle;\n",
       "    }\n",
       "\n",
       "    .dataframe tbody tr th {\n",
       "        vertical-align: top;\n",
       "    }\n",
       "\n",
       "    .dataframe thead th {\n",
       "        text-align: right;\n",
       "    }\n",
       "</style>\n",
       "<table border=\"1\" class=\"dataframe\">\n",
       "  <thead>\n",
       "    <tr style=\"text-align: right;\">\n",
       "      <th></th>\n",
       "      <th>Column1</th>\n",
       "      <th>car_name</th>\n",
       "      <th>car_prices_in_rupee</th>\n",
       "      <th>kms_driven</th>\n",
       "      <th>fuel_type</th>\n",
       "      <th>transmission</th>\n",
       "      <th>ownership</th>\n",
       "      <th>manufacture</th>\n",
       "      <th>engine</th>\n",
       "      <th>Seats</th>\n",
       "    </tr>\n",
       "  </thead>\n",
       "  <tbody>\n",
       "    <tr>\n",
       "      <th>0</th>\n",
       "      <td>0</td>\n",
       "      <td>Jeep Compass 2.0 Longitude Option BSIV</td>\n",
       "      <td>10.03 Lakh</td>\n",
       "      <td>86,226 kms</td>\n",
       "      <td>Diesel</td>\n",
       "      <td>Manual</td>\n",
       "      <td>1st Owner</td>\n",
       "      <td>2017</td>\n",
       "      <td>1956 cc</td>\n",
       "      <td>5 Seats</td>\n",
       "    </tr>\n",
       "  </tbody>\n",
       "</table>\n",
       "</div>"
      ],
      "text/plain": [
       "   Column1                                car_name car_prices_in_rupee  \\\n",
       "0        0  Jeep Compass 2.0 Longitude Option BSIV          10.03 Lakh   \n",
       "\n",
       "   kms_driven fuel_type transmission  ownership  manufacture   engine    Seats  \n",
       "0  86,226 kms    Diesel       Manual  1st Owner         2017  1956 cc  5 Seats  "
      ]
     },
     "execution_count": 5,
     "metadata": {},
     "output_type": "execute_result"
    }
   ],
   "source": [
    "dataset.head(1)"
   ]
  },
  {
   "cell_type": "code",
   "execution_count": 6,
   "id": "16546961-506b-4bec-8afa-ab45ef72c973",
   "metadata": {},
   "outputs": [
    {
     "data": {
      "text/plain": [
       "(5512, 10)"
      ]
     },
     "execution_count": 6,
     "metadata": {},
     "output_type": "execute_result"
    }
   ],
   "source": [
    "dataset.shape"
   ]
  },
  {
   "cell_type": "code",
   "execution_count": 7,
   "id": "ee343ea3-391e-461d-96fb-f1d54db61190",
   "metadata": {},
   "outputs": [
    {
     "name": "stdout",
     "output_type": "stream",
     "text": [
      "<class 'pandas.core.frame.DataFrame'>\n",
      "RangeIndex: 5512 entries, 0 to 5511\n",
      "Data columns (total 10 columns):\n",
      " #   Column               Non-Null Count  Dtype \n",
      "---  ------               --------------  ----- \n",
      " 0   Column1              5512 non-null   int64 \n",
      " 1   car_name             5512 non-null   object\n",
      " 2   car_prices_in_rupee  5507 non-null   object\n",
      " 3   kms_driven           5506 non-null   object\n",
      " 4   fuel_type            5512 non-null   object\n",
      " 5   transmission         5512 non-null   object\n",
      " 6   ownership            5511 non-null   object\n",
      " 7   manufacture          5512 non-null   int64 \n",
      " 8   engine               5511 non-null   object\n",
      " 9   Seats                5512 non-null   object\n",
      "dtypes: int64(2), object(8)\n",
      "memory usage: 430.8+ KB\n"
     ]
    }
   ],
   "source": [
    "dataset.info()"
   ]
  },
  {
   "cell_type": "code",
   "execution_count": 8,
   "id": "3dc05cdf-888d-4f3a-85fc-c412c4cdecf0",
   "metadata": {},
   "outputs": [
    {
     "data": {
      "text/plain": [
       "Column1                0\n",
       "car_name               0\n",
       "car_prices_in_rupee    5\n",
       "kms_driven             6\n",
       "fuel_type              0\n",
       "transmission           0\n",
       "ownership              1\n",
       "manufacture            0\n",
       "engine                 1\n",
       "Seats                  0\n",
       "dtype: int64"
      ]
     },
     "execution_count": 8,
     "metadata": {},
     "output_type": "execute_result"
    }
   ],
   "source": [
    "dataset.isnull().sum()"
   ]
  },
  {
   "cell_type": "code",
   "execution_count": 9,
   "id": "efec496d-ae5f-4cd4-a770-5c963d496a71",
   "metadata": {},
   "outputs": [
    {
     "data": {
      "text/plain": [
       "Column1                0.000000\n",
       "car_name               0.000000\n",
       "car_prices_in_rupee    0.090711\n",
       "kms_driven             0.108853\n",
       "fuel_type              0.000000\n",
       "transmission           0.000000\n",
       "ownership              0.018142\n",
       "manufacture            0.000000\n",
       "engine                 0.018142\n",
       "Seats                  0.000000\n",
       "dtype: float64"
      ]
     },
     "execution_count": 9,
     "metadata": {},
     "output_type": "execute_result"
    }
   ],
   "source": [
    "(dataset.isnull().sum() / dataset.shape[0]) * 100"
   ]
  },
  {
   "cell_type": "code",
   "execution_count": 10,
   "id": "a4f25222-9330-43e6-bb44-8da64147ebef",
   "metadata": {},
   "outputs": [],
   "source": [
    "dataset.dropna(inplace=True)"
   ]
  },
  {
   "cell_type": "code",
   "execution_count": 11,
   "id": "6ad3c770-7ef3-4f43-8792-d2342ed8a04a",
   "metadata": {},
   "outputs": [
    {
     "data": {
      "text/plain": [
       "Column1                0.0\n",
       "car_name               0.0\n",
       "car_prices_in_rupee    0.0\n",
       "kms_driven             0.0\n",
       "fuel_type              0.0\n",
       "transmission           0.0\n",
       "ownership              0.0\n",
       "manufacture            0.0\n",
       "engine                 0.0\n",
       "Seats                  0.0\n",
       "dtype: float64"
      ]
     },
     "execution_count": 11,
     "metadata": {},
     "output_type": "execute_result"
    }
   ],
   "source": [
    "(dataset.isnull().sum() / dataset.shape[0]) * 100"
   ]
  },
  {
   "cell_type": "code",
   "execution_count": null,
   "id": "bfa5e147-4bed-4f3b-8d7e-dac8922e5bc8",
   "metadata": {},
   "outputs": [],
   "source": []
  },
  {
   "cell_type": "code",
   "execution_count": null,
   "id": "d6f80a6d-e58b-428a-bb99-538de353ec22",
   "metadata": {},
   "outputs": [],
   "source": []
  },
  {
   "cell_type": "markdown",
   "id": "17a88cd9-e569-4eab-b3c2-1e7145af2c68",
   "metadata": {},
   "source": [
    "# car_name Column problem solve"
   ]
  },
  {
   "cell_type": "code",
   "execution_count": 12,
   "id": "26fb5c89-0564-4def-ab2c-160ce0510487",
   "metadata": {},
   "outputs": [
    {
     "data": {
      "text/plain": [
       "'Jeep Compass 2.0 Longitude Option BSIV'"
      ]
     },
     "execution_count": 12,
     "metadata": {},
     "output_type": "execute_result"
    }
   ],
   "source": [
    "dataset['car_name'][0]"
   ]
  },
  {
   "cell_type": "code",
   "execution_count": 13,
   "id": "f4e653fb-3a7b-4759-9f0b-daee756fb4aa",
   "metadata": {},
   "outputs": [
    {
     "data": {
      "text/plain": [
       "'Jeep'"
      ]
     },
     "execution_count": 13,
     "metadata": {},
     "output_type": "execute_result"
    }
   ],
   "source": [
    "x = dataset['car_name'][0]\n",
    "x[:x.index(\" \")]"
   ]
  },
  {
   "cell_type": "code",
   "execution_count": 14,
   "id": "97af2d8f-9abf-4d55-95e7-214f69ef0e3d",
   "metadata": {},
   "outputs": [],
   "source": [
    "def company_name(x):\n",
    "    return x[:x.index(\" \")]"
   ]
  },
  {
   "cell_type": "code",
   "execution_count": 15,
   "id": "b48f95e4-3217-4c1b-ad82-9d14ee9d1499",
   "metadata": {},
   "outputs": [
    {
     "data": {
      "text/plain": [
       "0             Jeep\n",
       "1          Renault\n",
       "3            Honda\n",
       "4       Volkswagen\n",
       "5       Volkswagen\n",
       "           ...    \n",
       "5507           BMW\n",
       "5508           BMW\n",
       "5509        Jaguar\n",
       "5510           BMW\n",
       "5511           BMW\n",
       "Name: car_name, Length: 5500, dtype: object"
      ]
     },
     "execution_count": 15,
     "metadata": {},
     "output_type": "execute_result"
    }
   ],
   "source": [
    "dataset['car_name'].apply(company_name)"
   ]
  },
  {
   "cell_type": "code",
   "execution_count": 16,
   "id": "41706030-3c31-4409-9214-451fc549135f",
   "metadata": {},
   "outputs": [],
   "source": [
    "dataset[\"company_name\"] = dataset['car_name'].apply(company_name)"
   ]
  },
  {
   "cell_type": "code",
   "execution_count": 17,
   "id": "d7666431-a2c0-433b-b0e3-0afd31f68f83",
   "metadata": {},
   "outputs": [
    {
     "data": {
      "text/html": [
       "<div>\n",
       "<style scoped>\n",
       "    .dataframe tbody tr th:only-of-type {\n",
       "        vertical-align: middle;\n",
       "    }\n",
       "\n",
       "    .dataframe tbody tr th {\n",
       "        vertical-align: top;\n",
       "    }\n",
       "\n",
       "    .dataframe thead th {\n",
       "        text-align: right;\n",
       "    }\n",
       "</style>\n",
       "<table border=\"1\" class=\"dataframe\">\n",
       "  <thead>\n",
       "    <tr style=\"text-align: right;\">\n",
       "      <th></th>\n",
       "      <th>Column1</th>\n",
       "      <th>car_name</th>\n",
       "      <th>car_prices_in_rupee</th>\n",
       "      <th>kms_driven</th>\n",
       "      <th>fuel_type</th>\n",
       "      <th>transmission</th>\n",
       "      <th>ownership</th>\n",
       "      <th>manufacture</th>\n",
       "      <th>engine</th>\n",
       "      <th>Seats</th>\n",
       "      <th>company_name</th>\n",
       "    </tr>\n",
       "  </thead>\n",
       "  <tbody>\n",
       "    <tr>\n",
       "      <th>0</th>\n",
       "      <td>0</td>\n",
       "      <td>Jeep Compass 2.0 Longitude Option BSIV</td>\n",
       "      <td>10.03 Lakh</td>\n",
       "      <td>86,226 kms</td>\n",
       "      <td>Diesel</td>\n",
       "      <td>Manual</td>\n",
       "      <td>1st Owner</td>\n",
       "      <td>2017</td>\n",
       "      <td>1956 cc</td>\n",
       "      <td>5 Seats</td>\n",
       "      <td>Jeep</td>\n",
       "    </tr>\n",
       "    <tr>\n",
       "      <th>1</th>\n",
       "      <td>1</td>\n",
       "      <td>Renault Duster RXZ Turbo CVT</td>\n",
       "      <td>12.83 Lakh</td>\n",
       "      <td>13,248 kms</td>\n",
       "      <td>Petrol</td>\n",
       "      <td>Automatic</td>\n",
       "      <td>1st Owner</td>\n",
       "      <td>2021</td>\n",
       "      <td>1330 cc</td>\n",
       "      <td>5 Seats</td>\n",
       "      <td>Renault</td>\n",
       "    </tr>\n",
       "    <tr>\n",
       "      <th>3</th>\n",
       "      <td>3</td>\n",
       "      <td>Honda Jazz VX CVT</td>\n",
       "      <td>7.77 Lakh</td>\n",
       "      <td>26,696 kms</td>\n",
       "      <td>Petrol</td>\n",
       "      <td>Automatic</td>\n",
       "      <td>1st Owner</td>\n",
       "      <td>2018</td>\n",
       "      <td>1199 cc</td>\n",
       "      <td>5 Seats</td>\n",
       "      <td>Honda</td>\n",
       "    </tr>\n",
       "  </tbody>\n",
       "</table>\n",
       "</div>"
      ],
      "text/plain": [
       "   Column1                                car_name car_prices_in_rupee  \\\n",
       "0        0  Jeep Compass 2.0 Longitude Option BSIV          10.03 Lakh   \n",
       "1        1            Renault Duster RXZ Turbo CVT          12.83 Lakh   \n",
       "3        3                       Honda Jazz VX CVT           7.77 Lakh   \n",
       "\n",
       "   kms_driven fuel_type transmission  ownership  manufacture   engine  \\\n",
       "0  86,226 kms    Diesel       Manual  1st Owner         2017  1956 cc   \n",
       "1  13,248 kms    Petrol    Automatic  1st Owner         2021  1330 cc   \n",
       "3  26,696 kms    Petrol    Automatic  1st Owner         2018  1199 cc   \n",
       "\n",
       "     Seats company_name  \n",
       "0  5 Seats         Jeep  \n",
       "1  5 Seats      Renault  \n",
       "3  5 Seats        Honda  "
      ]
     },
     "execution_count": 17,
     "metadata": {},
     "output_type": "execute_result"
    }
   ],
   "source": [
    "dataset.head(3)"
   ]
  },
  {
   "cell_type": "code",
   "execution_count": 18,
   "id": "883361b3-5209-4a92-b9e1-d250b95020df",
   "metadata": {},
   "outputs": [],
   "source": [
    "def car_name(x):\n",
    "    return x[x.index(\" \")+1:]"
   ]
  },
  {
   "cell_type": "code",
   "execution_count": 19,
   "id": "78f8116a-8aee-4d71-9613-c15ebdc5506e",
   "metadata": {},
   "outputs": [],
   "source": [
    "dataset[\"car_name\"] = dataset['car_name'].apply(car_name)"
   ]
  },
  {
   "cell_type": "code",
   "execution_count": 20,
   "id": "39ac2539-c45e-48a8-a795-3d5bef30d745",
   "metadata": {},
   "outputs": [
    {
     "data": {
      "text/html": [
       "<div>\n",
       "<style scoped>\n",
       "    .dataframe tbody tr th:only-of-type {\n",
       "        vertical-align: middle;\n",
       "    }\n",
       "\n",
       "    .dataframe tbody tr th {\n",
       "        vertical-align: top;\n",
       "    }\n",
       "\n",
       "    .dataframe thead th {\n",
       "        text-align: right;\n",
       "    }\n",
       "</style>\n",
       "<table border=\"1\" class=\"dataframe\">\n",
       "  <thead>\n",
       "    <tr style=\"text-align: right;\">\n",
       "      <th></th>\n",
       "      <th>Column1</th>\n",
       "      <th>car_name</th>\n",
       "      <th>car_prices_in_rupee</th>\n",
       "      <th>kms_driven</th>\n",
       "      <th>fuel_type</th>\n",
       "      <th>transmission</th>\n",
       "      <th>ownership</th>\n",
       "      <th>manufacture</th>\n",
       "      <th>engine</th>\n",
       "      <th>Seats</th>\n",
       "      <th>company_name</th>\n",
       "    </tr>\n",
       "  </thead>\n",
       "  <tbody>\n",
       "    <tr>\n",
       "      <th>0</th>\n",
       "      <td>0</td>\n",
       "      <td>Compass 2.0 Longitude Option BSIV</td>\n",
       "      <td>10.03 Lakh</td>\n",
       "      <td>86,226 kms</td>\n",
       "      <td>Diesel</td>\n",
       "      <td>Manual</td>\n",
       "      <td>1st Owner</td>\n",
       "      <td>2017</td>\n",
       "      <td>1956 cc</td>\n",
       "      <td>5 Seats</td>\n",
       "      <td>Jeep</td>\n",
       "    </tr>\n",
       "    <tr>\n",
       "      <th>1</th>\n",
       "      <td>1</td>\n",
       "      <td>Duster RXZ Turbo CVT</td>\n",
       "      <td>12.83 Lakh</td>\n",
       "      <td>13,248 kms</td>\n",
       "      <td>Petrol</td>\n",
       "      <td>Automatic</td>\n",
       "      <td>1st Owner</td>\n",
       "      <td>2021</td>\n",
       "      <td>1330 cc</td>\n",
       "      <td>5 Seats</td>\n",
       "      <td>Renault</td>\n",
       "    </tr>\n",
       "    <tr>\n",
       "      <th>3</th>\n",
       "      <td>3</td>\n",
       "      <td>Jazz VX CVT</td>\n",
       "      <td>7.77 Lakh</td>\n",
       "      <td>26,696 kms</td>\n",
       "      <td>Petrol</td>\n",
       "      <td>Automatic</td>\n",
       "      <td>1st Owner</td>\n",
       "      <td>2018</td>\n",
       "      <td>1199 cc</td>\n",
       "      <td>5 Seats</td>\n",
       "      <td>Honda</td>\n",
       "    </tr>\n",
       "  </tbody>\n",
       "</table>\n",
       "</div>"
      ],
      "text/plain": [
       "   Column1                           car_name car_prices_in_rupee  kms_driven  \\\n",
       "0        0  Compass 2.0 Longitude Option BSIV          10.03 Lakh  86,226 kms   \n",
       "1        1               Duster RXZ Turbo CVT          12.83 Lakh  13,248 kms   \n",
       "3        3                        Jazz VX CVT           7.77 Lakh  26,696 kms   \n",
       "\n",
       "  fuel_type transmission  ownership  manufacture   engine    Seats  \\\n",
       "0    Diesel       Manual  1st Owner         2017  1956 cc  5 Seats   \n",
       "1    Petrol    Automatic  1st Owner         2021  1330 cc  5 Seats   \n",
       "3    Petrol    Automatic  1st Owner         2018  1199 cc  5 Seats   \n",
       "\n",
       "  company_name  \n",
       "0         Jeep  \n",
       "1      Renault  \n",
       "3        Honda  "
      ]
     },
     "execution_count": 20,
     "metadata": {},
     "output_type": "execute_result"
    }
   ],
   "source": [
    "dataset.head(3)"
   ]
  },
  {
   "cell_type": "code",
   "execution_count": null,
   "id": "b7231aab-79d9-4209-b20d-500008793389",
   "metadata": {},
   "outputs": [],
   "source": []
  },
  {
   "cell_type": "code",
   "execution_count": null,
   "id": "232dfda2-088d-4afd-bfdb-06291dc282e8",
   "metadata": {},
   "outputs": [],
   "source": []
  },
  {
   "cell_type": "markdown",
   "id": "2bfbcf91-3415-4de0-ae48-d4cd8f76d3b6",
   "metadata": {},
   "source": [
    "# car_price_in_rupee problem solve"
   ]
  },
  {
   "cell_type": "code",
   "execution_count": 21,
   "id": "dda7aa81-45fa-47bb-aa93-c48cd8497892",
   "metadata": {},
   "outputs": [
    {
     "data": {
      "text/plain": [
       "0       10.03 Lakh\n",
       "1       12.83 Lakh\n",
       "3        7.77 Lakh\n",
       "4        5.15 Lakh\n",
       "5        7.66 Lakh\n",
       "           ...    \n",
       "5507    28.90 Lakh\n",
       "5508    64.90 Lakh\n",
       "5509    13.75 Lakh\n",
       "5510    29.90 Lakh\n",
       "5511    31.90 Lakh\n",
       "Name: car_prices_in_rupee, Length: 5500, dtype: object"
      ]
     },
     "execution_count": 21,
     "metadata": {},
     "output_type": "execute_result"
    }
   ],
   "source": [
    "dataset['car_prices_in_rupee']"
   ]
  },
  {
   "cell_type": "markdown",
   "id": "acafead6-85cd-4343-8d7f-d3e818d0e3fa",
   "metadata": {},
   "source": [
    "### Remove the commas (,) from the data. E.g. 35,000 = 350000"
   ]
  },
  {
   "cell_type": "code",
   "execution_count": 22,
   "id": "b13f51ee-d25e-4b2a-890d-057cdb63afd8",
   "metadata": {},
   "outputs": [],
   "source": [
    "dataset['car_prices_in_rupee']= dataset['car_prices_in_rupee'].str.replace(\",\",\"\")"
   ]
  },
  {
   "cell_type": "markdown",
   "id": "c10411ed-fdbe-470e-906e-4e2d361c0b35",
   "metadata": {},
   "source": [
    "### convert lakh to thousand or crore to thousand"
   ]
  },
  {
   "cell_type": "code",
   "execution_count": 23,
   "id": "03f46616-4ae1-4f9b-adc1-d0beeb369e5c",
   "metadata": {},
   "outputs": [],
   "source": [
    "def rupee_change(x):  # x = 1.02 Crore\n",
    "    p=x.split(\" \")    # p = [\"1.02\", \"Crore\"]\n",
    "    try:\n",
    "        if p[1] == \"Lakh\":\n",
    "            return str(round(float(p[0]) * 100000,1))\n",
    "        elif p[1] == \"Crore\":\n",
    "            return str(round(float(p[0]) * 10000000,1))\n",
    "    except:\n",
    "        return x\n",
    "    "
   ]
  },
  {
   "cell_type": "code",
   "execution_count": 24,
   "id": "17eff156-2422-452d-9a14-4ee51bdbcbcc",
   "metadata": {},
   "outputs": [],
   "source": [
    "dataset['car_prices_in_rupee'] = dataset['car_prices_in_rupee'].apply(rupee_change)"
   ]
  },
  {
   "cell_type": "code",
   "execution_count": 25,
   "id": "89589522-6fb5-45f8-a56a-39d6c964bc7f",
   "metadata": {},
   "outputs": [],
   "source": [
    "dataset['car_prices_in_rupee'] = dataset['car_prices_in_rupee'].astype(\"float\")"
   ]
  },
  {
   "cell_type": "code",
   "execution_count": 26,
   "id": "3e8a7160-620a-4cc4-9069-a6cf2f8896e8",
   "metadata": {},
   "outputs": [
    {
     "data": {
      "text/html": [
       "<div>\n",
       "<style scoped>\n",
       "    .dataframe tbody tr th:only-of-type {\n",
       "        vertical-align: middle;\n",
       "    }\n",
       "\n",
       "    .dataframe tbody tr th {\n",
       "        vertical-align: top;\n",
       "    }\n",
       "\n",
       "    .dataframe thead th {\n",
       "        text-align: right;\n",
       "    }\n",
       "</style>\n",
       "<table border=\"1\" class=\"dataframe\">\n",
       "  <thead>\n",
       "    <tr style=\"text-align: right;\">\n",
       "      <th></th>\n",
       "      <th>Column1</th>\n",
       "      <th>car_name</th>\n",
       "      <th>car_prices_in_rupee</th>\n",
       "      <th>kms_driven</th>\n",
       "      <th>fuel_type</th>\n",
       "      <th>transmission</th>\n",
       "      <th>ownership</th>\n",
       "      <th>manufacture</th>\n",
       "      <th>engine</th>\n",
       "      <th>Seats</th>\n",
       "      <th>company_name</th>\n",
       "    </tr>\n",
       "  </thead>\n",
       "  <tbody>\n",
       "    <tr>\n",
       "      <th>0</th>\n",
       "      <td>0</td>\n",
       "      <td>Compass 2.0 Longitude Option BSIV</td>\n",
       "      <td>1003000.0</td>\n",
       "      <td>86,226 kms</td>\n",
       "      <td>Diesel</td>\n",
       "      <td>Manual</td>\n",
       "      <td>1st Owner</td>\n",
       "      <td>2017</td>\n",
       "      <td>1956 cc</td>\n",
       "      <td>5 Seats</td>\n",
       "      <td>Jeep</td>\n",
       "    </tr>\n",
       "    <tr>\n",
       "      <th>1</th>\n",
       "      <td>1</td>\n",
       "      <td>Duster RXZ Turbo CVT</td>\n",
       "      <td>1283000.0</td>\n",
       "      <td>13,248 kms</td>\n",
       "      <td>Petrol</td>\n",
       "      <td>Automatic</td>\n",
       "      <td>1st Owner</td>\n",
       "      <td>2021</td>\n",
       "      <td>1330 cc</td>\n",
       "      <td>5 Seats</td>\n",
       "      <td>Renault</td>\n",
       "    </tr>\n",
       "    <tr>\n",
       "      <th>3</th>\n",
       "      <td>3</td>\n",
       "      <td>Jazz VX CVT</td>\n",
       "      <td>777000.0</td>\n",
       "      <td>26,696 kms</td>\n",
       "      <td>Petrol</td>\n",
       "      <td>Automatic</td>\n",
       "      <td>1st Owner</td>\n",
       "      <td>2018</td>\n",
       "      <td>1199 cc</td>\n",
       "      <td>5 Seats</td>\n",
       "      <td>Honda</td>\n",
       "    </tr>\n",
       "    <tr>\n",
       "      <th>4</th>\n",
       "      <td>4</td>\n",
       "      <td>Polo 1.2 MPI Highline</td>\n",
       "      <td>515000.0</td>\n",
       "      <td>69,414 kms</td>\n",
       "      <td>Petrol</td>\n",
       "      <td>Manual</td>\n",
       "      <td>1st Owner</td>\n",
       "      <td>2016</td>\n",
       "      <td>1199 cc</td>\n",
       "      <td>5 Seats</td>\n",
       "      <td>Volkswagen</td>\n",
       "    </tr>\n",
       "    <tr>\n",
       "      <th>5</th>\n",
       "      <td>5</td>\n",
       "      <td>Vento 1.2 TSI Highline AT</td>\n",
       "      <td>766000.0</td>\n",
       "      <td>49,719 kms</td>\n",
       "      <td>Petrol</td>\n",
       "      <td>Automatic</td>\n",
       "      <td>1st Owner</td>\n",
       "      <td>2017</td>\n",
       "      <td>1197 cc</td>\n",
       "      <td>5 Seats</td>\n",
       "      <td>Volkswagen</td>\n",
       "    </tr>\n",
       "  </tbody>\n",
       "</table>\n",
       "</div>"
      ],
      "text/plain": [
       "   Column1                           car_name  car_prices_in_rupee  \\\n",
       "0        0  Compass 2.0 Longitude Option BSIV            1003000.0   \n",
       "1        1               Duster RXZ Turbo CVT            1283000.0   \n",
       "3        3                        Jazz VX CVT             777000.0   \n",
       "4        4              Polo 1.2 MPI Highline             515000.0   \n",
       "5        5          Vento 1.2 TSI Highline AT             766000.0   \n",
       "\n",
       "   kms_driven fuel_type transmission  ownership  manufacture   engine  \\\n",
       "0  86,226 kms    Diesel       Manual  1st Owner         2017  1956 cc   \n",
       "1  13,248 kms    Petrol    Automatic  1st Owner         2021  1330 cc   \n",
       "3  26,696 kms    Petrol    Automatic  1st Owner         2018  1199 cc   \n",
       "4  69,414 kms    Petrol       Manual  1st Owner         2016  1199 cc   \n",
       "5  49,719 kms    Petrol    Automatic  1st Owner         2017  1197 cc   \n",
       "\n",
       "     Seats company_name  \n",
       "0  5 Seats         Jeep  \n",
       "1  5 Seats      Renault  \n",
       "3  5 Seats        Honda  \n",
       "4  5 Seats   Volkswagen  \n",
       "5  5 Seats   Volkswagen  "
      ]
     },
     "execution_count": 26,
     "metadata": {},
     "output_type": "execute_result"
    }
   ],
   "source": [
    "dataset.head(5)"
   ]
  },
  {
   "cell_type": "code",
   "execution_count": null,
   "id": "5f6f392c-1a96-4e0c-af9c-304b9ea4d2a4",
   "metadata": {},
   "outputs": [],
   "source": []
  },
  {
   "cell_type": "code",
   "execution_count": null,
   "id": "2180f7be-af01-4ad4-a11d-ecfac940da58",
   "metadata": {},
   "outputs": [],
   "source": []
  },
  {
   "cell_type": "markdown",
   "id": "af596f80-b096-4a71-8d16-a65f5fdb069a",
   "metadata": {},
   "source": [
    "# kms_driven problem solve"
   ]
  },
  {
   "cell_type": "code",
   "execution_count": 27,
   "id": "0abee7d3-6950-4fbd-93e9-b1b2ca76c3a7",
   "metadata": {},
   "outputs": [
    {
     "data": {
      "text/plain": [
       "0       86,226 kms\n",
       "1       13,248 kms\n",
       "3       26,696 kms\n",
       "4       69,414 kms\n",
       "5       49,719 kms\n",
       "           ...    \n",
       "5507    45,000 kms\n",
       "5508    29,000 kms\n",
       "5509    90,000 kms\n",
       "5510    79,000 kms\n",
       "5511    42,000 kms\n",
       "Name: kms_driven, Length: 5500, dtype: object"
      ]
     },
     "execution_count": 27,
     "metadata": {},
     "output_type": "execute_result"
    }
   ],
   "source": [
    "dataset['kms_driven']"
   ]
  },
  {
   "cell_type": "code",
   "execution_count": 28,
   "id": "08dc6cb0-532a-4feb-ab5e-46ca05fded62",
   "metadata": {},
   "outputs": [],
   "source": [
    "dataset['kms_driven'] = dataset['kms_driven'].str.replace(',',\"\")\n",
    "dataset['kms_driven'] = dataset['kms_driven'].str.replace(' kms',\"\")"
   ]
  },
  {
   "cell_type": "code",
   "execution_count": 29,
   "id": "99d7e34c-7468-4645-9608-f0898fa32e77",
   "metadata": {},
   "outputs": [
    {
     "data": {
      "text/plain": [
       "0       86226\n",
       "1       13248\n",
       "3       26696\n",
       "4       69414\n",
       "5       49719\n",
       "        ...  \n",
       "5507    45000\n",
       "5508    29000\n",
       "5509    90000\n",
       "5510    79000\n",
       "5511    42000\n",
       "Name: kms_driven, Length: 5500, dtype: object"
      ]
     },
     "execution_count": 29,
     "metadata": {},
     "output_type": "execute_result"
    }
   ],
   "source": [
    "dataset['kms_driven']"
   ]
  },
  {
   "cell_type": "code",
   "execution_count": 30,
   "id": "2096cdb7-1dea-463f-9aa2-3210cb14b0cd",
   "metadata": {},
   "outputs": [],
   "source": [
    "dataset['kms_driven'] = dataset['kms_driven'].astype('int64')"
   ]
  },
  {
   "cell_type": "code",
   "execution_count": null,
   "id": "8c85f76f-9a99-410e-9001-a54343696355",
   "metadata": {},
   "outputs": [],
   "source": []
  },
  {
   "cell_type": "code",
   "execution_count": null,
   "id": "dccc36db-d162-41a3-95e7-57aa4435b693",
   "metadata": {},
   "outputs": [],
   "source": []
  },
  {
   "cell_type": "markdown",
   "id": "c445a64b-52dd-42cb-a6c6-474b4a56cf37",
   "metadata": {},
   "source": [
    "# engine problem solve "
   ]
  },
  {
   "cell_type": "code",
   "execution_count": 31,
   "id": "3ae5e7ca-f99c-46ad-b01f-d8a7bfbfec0c",
   "metadata": {},
   "outputs": [
    {
     "data": {
      "text/plain": [
       "0       1956 cc\n",
       "1       1330 cc\n",
       "3       1199 cc\n",
       "4       1199 cc\n",
       "5       1197 cc\n",
       "         ...   \n",
       "5507    2995 cc\n",
       "5508    1968 cc\n",
       "5509    2755 cc\n",
       "5510    2967 cc\n",
       "5511    1991 cc\n",
       "Name: engine, Length: 5500, dtype: object"
      ]
     },
     "execution_count": 31,
     "metadata": {},
     "output_type": "execute_result"
    }
   ],
   "source": [
    "dataset['engine']"
   ]
  },
  {
   "cell_type": "code",
   "execution_count": 32,
   "id": "9b056bce-c22c-479e-ad2a-259da4b2ec21",
   "metadata": {},
   "outputs": [],
   "source": [
    "dataset['engine'] = dataset['engine'].str.replace(' cc', \"\")"
   ]
  },
  {
   "cell_type": "code",
   "execution_count": 33,
   "id": "769f442c-2ce2-4b7c-b9b8-0120b88192d5",
   "metadata": {},
   "outputs": [
    {
     "data": {
      "text/plain": [
       "0       1956\n",
       "1       1330\n",
       "3       1199\n",
       "4       1199\n",
       "5       1197\n",
       "        ... \n",
       "5507    2995\n",
       "5508    1968\n",
       "5509    2755\n",
       "5510    2967\n",
       "5511    1991\n",
       "Name: engine, Length: 5500, dtype: object"
      ]
     },
     "execution_count": 33,
     "metadata": {},
     "output_type": "execute_result"
    }
   ],
   "source": [
    "dataset[\"engine\"]"
   ]
  },
  {
   "cell_type": "code",
   "execution_count": 34,
   "id": "a5891d6f-92ba-4cf3-8a63-dd8f84bc5541",
   "metadata": {},
   "outputs": [],
   "source": [
    "dataset[\"engine\"] = dataset[\"engine\"].astype(\"int64\")"
   ]
  },
  {
   "cell_type": "code",
   "execution_count": null,
   "id": "9a2bd4bc-60a6-420c-bde4-56e5babc302c",
   "metadata": {},
   "outputs": [],
   "source": []
  },
  {
   "cell_type": "code",
   "execution_count": null,
   "id": "7c84c51a-603c-4662-ae5b-a444a2786a44",
   "metadata": {},
   "outputs": [],
   "source": []
  },
  {
   "cell_type": "markdown",
   "id": "6a91ed8f-8ca3-40f1-9c4a-5eb508288d15",
   "metadata": {},
   "source": [
    "# Seats problem solve"
   ]
  },
  {
   "cell_type": "code",
   "execution_count": 35,
   "id": "a9915cc4-e775-49f2-b134-38a70940acf3",
   "metadata": {},
   "outputs": [
    {
     "data": {
      "text/plain": [
       "0       5 Seats\n",
       "1       5 Seats\n",
       "3       5 Seats\n",
       "4       5 Seats\n",
       "5       5 Seats\n",
       "         ...   \n",
       "5507    7 Seats\n",
       "5508    5 Seats\n",
       "5509    5 Seats\n",
       "5510    6 Seats\n",
       "5511    5 Seats\n",
       "Name: Seats, Length: 5500, dtype: object"
      ]
     },
     "execution_count": 35,
     "metadata": {},
     "output_type": "execute_result"
    }
   ],
   "source": [
    "dataset['Seats']"
   ]
  },
  {
   "cell_type": "code",
   "execution_count": 36,
   "id": "532508a9-cf2c-4dfd-8d2c-e59acd26b9db",
   "metadata": {},
   "outputs": [],
   "source": [
    "dataset['Seats'] = dataset['Seats'].str.replace(' Seats', \"\")"
   ]
  },
  {
   "cell_type": "code",
   "execution_count": 37,
   "id": "0e83043e-5474-4a22-9a0c-8ca3210760bb",
   "metadata": {},
   "outputs": [],
   "source": [
    "dataset[\"Seats\"] = dataset[\"Seats\"].astype(\"int64\")"
   ]
  },
  {
   "cell_type": "code",
   "execution_count": 38,
   "id": "66117639-0532-456a-b572-42bc6a739d90",
   "metadata": {},
   "outputs": [
    {
     "data": {
      "text/plain": [
       "0       5\n",
       "1       5\n",
       "3       5\n",
       "4       5\n",
       "5       5\n",
       "       ..\n",
       "5507    7\n",
       "5508    5\n",
       "5509    5\n",
       "5510    6\n",
       "5511    5\n",
       "Name: Seats, Length: 5500, dtype: int64"
      ]
     },
     "execution_count": 38,
     "metadata": {},
     "output_type": "execute_result"
    }
   ],
   "source": [
    "dataset['Seats']"
   ]
  },
  {
   "cell_type": "code",
   "execution_count": 39,
   "id": "6d47d07e-d569-4e95-ab22-625551eafe07",
   "metadata": {},
   "outputs": [
    {
     "data": {
      "text/plain": [
       "0       2017\n",
       "1       2021\n",
       "3       2018\n",
       "4       2016\n",
       "5       2017\n",
       "        ... \n",
       "5507    2018\n",
       "5508    2015\n",
       "5509    2013\n",
       "5510    2015\n",
       "5511    2017\n",
       "Name: manufacture, Length: 5500, dtype: int64"
      ]
     },
     "execution_count": 39,
     "metadata": {},
     "output_type": "execute_result"
    }
   ],
   "source": [
    "dataset['manufacture']"
   ]
  },
  {
   "cell_type": "code",
   "execution_count": 41,
   "id": "07e00744-1751-45bc-ae87-4490499a9f46",
   "metadata": {},
   "outputs": [],
   "source": [
    "dataset['manufacture'] = pd.to_datetime(dataset['manufacture'])"
   ]
  },
  {
   "cell_type": "code",
   "execution_count": 42,
   "id": "8b1caead-39f0-4e7d-bb93-c21beb11bfa5",
   "metadata": {},
   "outputs": [
    {
     "name": "stdout",
     "output_type": "stream",
     "text": [
      "<class 'pandas.core.frame.DataFrame'>\n",
      "Index: 5500 entries, 0 to 5511\n",
      "Data columns (total 11 columns):\n",
      " #   Column               Non-Null Count  Dtype         \n",
      "---  ------               --------------  -----         \n",
      " 0   Column1              5500 non-null   int64         \n",
      " 1   car_name             5500 non-null   object        \n",
      " 2   car_prices_in_rupee  5500 non-null   float64       \n",
      " 3   kms_driven           5500 non-null   int64         \n",
      " 4   fuel_type            5500 non-null   object        \n",
      " 5   transmission         5500 non-null   object        \n",
      " 6   ownership            5500 non-null   object        \n",
      " 7   manufacture          5500 non-null   datetime64[ns]\n",
      " 8   engine               5500 non-null   int64         \n",
      " 9   Seats                5500 non-null   int64         \n",
      " 10  company_name         5500 non-null   object        \n",
      "dtypes: datetime64[ns](1), float64(1), int64(4), object(5)\n",
      "memory usage: 644.7+ KB\n"
     ]
    }
   ],
   "source": [
    "dataset.info()"
   ]
  },
  {
   "cell_type": "code",
   "execution_count": null,
   "id": "2d9f24d9-d911-4e28-ae6d-5d4a57414d83",
   "metadata": {},
   "outputs": [],
   "source": []
  },
  {
   "cell_type": "code",
   "execution_count": null,
   "id": "c0f75e2b-9c98-4323-b0ea-c19ca59b6524",
   "metadata": {},
   "outputs": [],
   "source": []
  },
  {
   "cell_type": "code",
   "execution_count": 43,
   "id": "03d21bd2-7ce6-4f81-8372-43cac00ab33a",
   "metadata": {},
   "outputs": [
    {
     "data": {
      "text/html": [
       "<div>\n",
       "<style scoped>\n",
       "    .dataframe tbody tr th:only-of-type {\n",
       "        vertical-align: middle;\n",
       "    }\n",
       "\n",
       "    .dataframe tbody tr th {\n",
       "        vertical-align: top;\n",
       "    }\n",
       "\n",
       "    .dataframe thead th {\n",
       "        text-align: right;\n",
       "    }\n",
       "</style>\n",
       "<table border=\"1\" class=\"dataframe\">\n",
       "  <thead>\n",
       "    <tr style=\"text-align: right;\">\n",
       "      <th></th>\n",
       "      <th>Column1</th>\n",
       "      <th>car_name</th>\n",
       "      <th>car_prices_in_rupee</th>\n",
       "      <th>kms_driven</th>\n",
       "      <th>fuel_type</th>\n",
       "      <th>transmission</th>\n",
       "      <th>ownership</th>\n",
       "      <th>manufacture</th>\n",
       "      <th>engine</th>\n",
       "      <th>Seats</th>\n",
       "      <th>company_name</th>\n",
       "    </tr>\n",
       "  </thead>\n",
       "  <tbody>\n",
       "    <tr>\n",
       "      <th>0</th>\n",
       "      <td>0</td>\n",
       "      <td>Compass 2.0 Longitude Option BSIV</td>\n",
       "      <td>1003000.0</td>\n",
       "      <td>86226</td>\n",
       "      <td>Diesel</td>\n",
       "      <td>Manual</td>\n",
       "      <td>1st Owner</td>\n",
       "      <td>1970-01-01 00:00:00.000002017</td>\n",
       "      <td>1956</td>\n",
       "      <td>5</td>\n",
       "      <td>Jeep</td>\n",
       "    </tr>\n",
       "    <tr>\n",
       "      <th>1</th>\n",
       "      <td>1</td>\n",
       "      <td>Duster RXZ Turbo CVT</td>\n",
       "      <td>1283000.0</td>\n",
       "      <td>13248</td>\n",
       "      <td>Petrol</td>\n",
       "      <td>Automatic</td>\n",
       "      <td>1st Owner</td>\n",
       "      <td>1970-01-01 00:00:00.000002021</td>\n",
       "      <td>1330</td>\n",
       "      <td>5</td>\n",
       "      <td>Renault</td>\n",
       "    </tr>\n",
       "    <tr>\n",
       "      <th>3</th>\n",
       "      <td>3</td>\n",
       "      <td>Jazz VX CVT</td>\n",
       "      <td>777000.0</td>\n",
       "      <td>26696</td>\n",
       "      <td>Petrol</td>\n",
       "      <td>Automatic</td>\n",
       "      <td>1st Owner</td>\n",
       "      <td>1970-01-01 00:00:00.000002018</td>\n",
       "      <td>1199</td>\n",
       "      <td>5</td>\n",
       "      <td>Honda</td>\n",
       "    </tr>\n",
       "  </tbody>\n",
       "</table>\n",
       "</div>"
      ],
      "text/plain": [
       "   Column1                           car_name  car_prices_in_rupee  \\\n",
       "0        0  Compass 2.0 Longitude Option BSIV            1003000.0   \n",
       "1        1               Duster RXZ Turbo CVT            1283000.0   \n",
       "3        3                        Jazz VX CVT             777000.0   \n",
       "\n",
       "   kms_driven fuel_type transmission  ownership                   manufacture  \\\n",
       "0       86226    Diesel       Manual  1st Owner 1970-01-01 00:00:00.000002017   \n",
       "1       13248    Petrol    Automatic  1st Owner 1970-01-01 00:00:00.000002021   \n",
       "3       26696    Petrol    Automatic  1st Owner 1970-01-01 00:00:00.000002018   \n",
       "\n",
       "   engine  Seats company_name  \n",
       "0    1956      5         Jeep  \n",
       "1    1330      5      Renault  \n",
       "3    1199      5        Honda  "
      ]
     },
     "execution_count": 43,
     "metadata": {},
     "output_type": "execute_result"
    }
   ],
   "source": [
    "dataset.head(3)"
   ]
  },
  {
   "cell_type": "code",
   "execution_count": null,
   "id": "9c23eae6-e017-4d5b-8ace-1c1219569ebc",
   "metadata": {},
   "outputs": [],
   "source": []
  },
  {
   "cell_type": "code",
   "execution_count": null,
   "id": "9a996e4a-f2c0-4b4f-874a-cd03c80de87b",
   "metadata": {},
   "outputs": [],
   "source": []
  },
  {
   "cell_type": "code",
   "execution_count": null,
   "id": "f8655568-d955-4094-a2b9-c9634d1ee55c",
   "metadata": {},
   "outputs": [],
   "source": []
  },
  {
   "cell_type": "markdown",
   "id": "bb274648-1d6a-4b0b-9a11-ecba50adabd4",
   "metadata": {},
   "source": [
    "# Data cleaning for Machine Larning"
   ]
  },
  {
   "cell_type": "code",
   "execution_count": null,
   "id": "059b3b13-6722-4dfc-a91d-c01236f4de78",
   "metadata": {},
   "outputs": [],
   "source": []
  },
  {
   "cell_type": "code",
   "execution_count": 51,
   "id": "11020042-a10b-4288-a6d5-4d07d0fd6281",
   "metadata": {},
   "outputs": [],
   "source": [
    "# !pip install scikit-learn"
   ]
  },
  {
   "cell_type": "code",
   "execution_count": 58,
   "id": "180ac0f1-122c-41c4-ad3d-b472eab2e72f",
   "metadata": {},
   "outputs": [],
   "source": [
    "from sklearn.preprocessing import LabelEncoder, StandardScaler"
   ]
  },
  {
   "cell_type": "markdown",
   "id": "60aa3f0b-f0c9-4f93-b122-2ea305efc97f",
   "metadata": {},
   "source": [
    "### Encoding car_name"
   ]
  },
  {
   "cell_type": "code",
   "execution_count": 61,
   "id": "e93386d3-c683-49f5-a6f2-0ad0e46044a9",
   "metadata": {},
   "outputs": [],
   "source": [
    "car_name_en = LabelEncoder()\n",
    "dataset['car_name'] = car_name_en.fit_transform(dataset['car_name'])"
   ]
  },
  {
   "cell_type": "code",
   "execution_count": 62,
   "id": "129fb1d1-3ae5-4575-8669-aa1374123632",
   "metadata": {},
   "outputs": [
    {
     "data": {
      "text/html": [
       "<div>\n",
       "<style scoped>\n",
       "    .dataframe tbody tr th:only-of-type {\n",
       "        vertical-align: middle;\n",
       "    }\n",
       "\n",
       "    .dataframe tbody tr th {\n",
       "        vertical-align: top;\n",
       "    }\n",
       "\n",
       "    .dataframe thead th {\n",
       "        text-align: right;\n",
       "    }\n",
       "</style>\n",
       "<table border=\"1\" class=\"dataframe\">\n",
       "  <thead>\n",
       "    <tr style=\"text-align: right;\">\n",
       "      <th></th>\n",
       "      <th>Column1</th>\n",
       "      <th>car_name</th>\n",
       "      <th>car_prices_in_rupee</th>\n",
       "      <th>kms_driven</th>\n",
       "      <th>fuel_type</th>\n",
       "      <th>transmission</th>\n",
       "      <th>ownership</th>\n",
       "      <th>manufacture</th>\n",
       "      <th>engine</th>\n",
       "      <th>Seats</th>\n",
       "      <th>company_name</th>\n",
       "    </tr>\n",
       "  </thead>\n",
       "  <tbody>\n",
       "    <tr>\n",
       "      <th>0</th>\n",
       "      <td>0</td>\n",
       "      <td>425</td>\n",
       "      <td>1003000.0</td>\n",
       "      <td>86226</td>\n",
       "      <td>Diesel</td>\n",
       "      <td>Manual</td>\n",
       "      <td>1st Owner</td>\n",
       "      <td>1970-01-01 00:00:00.000002017</td>\n",
       "      <td>1956</td>\n",
       "      <td>5</td>\n",
       "      <td>Jeep</td>\n",
       "    </tr>\n",
       "    <tr>\n",
       "      <th>1</th>\n",
       "      <td>1</td>\n",
       "      <td>508</td>\n",
       "      <td>1283000.0</td>\n",
       "      <td>13248</td>\n",
       "      <td>Petrol</td>\n",
       "      <td>Automatic</td>\n",
       "      <td>1st Owner</td>\n",
       "      <td>1970-01-01 00:00:00.000002021</td>\n",
       "      <td>1330</td>\n",
       "      <td>5</td>\n",
       "      <td>Renault</td>\n",
       "    </tr>\n",
       "    <tr>\n",
       "      <th>3</th>\n",
       "      <td>3</td>\n",
       "      <td>911</td>\n",
       "      <td>777000.0</td>\n",
       "      <td>26696</td>\n",
       "      <td>Petrol</td>\n",
       "      <td>Automatic</td>\n",
       "      <td>1st Owner</td>\n",
       "      <td>1970-01-01 00:00:00.000002018</td>\n",
       "      <td>1199</td>\n",
       "      <td>5</td>\n",
       "      <td>Honda</td>\n",
       "    </tr>\n",
       "  </tbody>\n",
       "</table>\n",
       "</div>"
      ],
      "text/plain": [
       "   Column1  car_name  car_prices_in_rupee  kms_driven fuel_type transmission  \\\n",
       "0        0       425            1003000.0       86226    Diesel       Manual   \n",
       "1        1       508            1283000.0       13248    Petrol    Automatic   \n",
       "3        3       911             777000.0       26696    Petrol    Automatic   \n",
       "\n",
       "   ownership                   manufacture  engine  Seats company_name  \n",
       "0  1st Owner 1970-01-01 00:00:00.000002017    1956      5         Jeep  \n",
       "1  1st Owner 1970-01-01 00:00:00.000002021    1330      5      Renault  \n",
       "3  1st Owner 1970-01-01 00:00:00.000002018    1199      5        Honda  "
      ]
     },
     "execution_count": 62,
     "metadata": {},
     "output_type": "execute_result"
    }
   ],
   "source": [
    "dataset.head(3)"
   ]
  },
  {
   "cell_type": "markdown",
   "id": "0c38edd6-0e57-42f4-bc88-a7856c231f0d",
   "metadata": {},
   "source": [
    "### Encoding fuel_type"
   ]
  },
  {
   "cell_type": "code",
   "execution_count": 64,
   "id": "a7ad22e3-2238-4004-a729-0aae6228577b",
   "metadata": {},
   "outputs": [],
   "source": [
    "fuel_type_en = LabelEncoder()\n",
    "dataset['fuel_type'] = fuel_type_en.fit_transform(dataset['fuel_type'])"
   ]
  },
  {
   "cell_type": "code",
   "execution_count": 65,
   "id": "ef4b2625-56a3-4b0a-a40c-1c70bc89f182",
   "metadata": {},
   "outputs": [
    {
     "data": {
      "text/html": [
       "<div>\n",
       "<style scoped>\n",
       "    .dataframe tbody tr th:only-of-type {\n",
       "        vertical-align: middle;\n",
       "    }\n",
       "\n",
       "    .dataframe tbody tr th {\n",
       "        vertical-align: top;\n",
       "    }\n",
       "\n",
       "    .dataframe thead th {\n",
       "        text-align: right;\n",
       "    }\n",
       "</style>\n",
       "<table border=\"1\" class=\"dataframe\">\n",
       "  <thead>\n",
       "    <tr style=\"text-align: right;\">\n",
       "      <th></th>\n",
       "      <th>Column1</th>\n",
       "      <th>car_name</th>\n",
       "      <th>car_prices_in_rupee</th>\n",
       "      <th>kms_driven</th>\n",
       "      <th>fuel_type</th>\n",
       "      <th>transmission</th>\n",
       "      <th>ownership</th>\n",
       "      <th>manufacture</th>\n",
       "      <th>engine</th>\n",
       "      <th>Seats</th>\n",
       "      <th>company_name</th>\n",
       "    </tr>\n",
       "  </thead>\n",
       "  <tbody>\n",
       "    <tr>\n",
       "      <th>0</th>\n",
       "      <td>0</td>\n",
       "      <td>425</td>\n",
       "      <td>1003000.0</td>\n",
       "      <td>86226</td>\n",
       "      <td>1</td>\n",
       "      <td>Manual</td>\n",
       "      <td>1st Owner</td>\n",
       "      <td>1970-01-01 00:00:00.000002017</td>\n",
       "      <td>1956</td>\n",
       "      <td>5</td>\n",
       "      <td>Jeep</td>\n",
       "    </tr>\n",
       "    <tr>\n",
       "      <th>1</th>\n",
       "      <td>1</td>\n",
       "      <td>508</td>\n",
       "      <td>1283000.0</td>\n",
       "      <td>13248</td>\n",
       "      <td>4</td>\n",
       "      <td>Automatic</td>\n",
       "      <td>1st Owner</td>\n",
       "      <td>1970-01-01 00:00:00.000002021</td>\n",
       "      <td>1330</td>\n",
       "      <td>5</td>\n",
       "      <td>Renault</td>\n",
       "    </tr>\n",
       "    <tr>\n",
       "      <th>3</th>\n",
       "      <td>3</td>\n",
       "      <td>911</td>\n",
       "      <td>777000.0</td>\n",
       "      <td>26696</td>\n",
       "      <td>4</td>\n",
       "      <td>Automatic</td>\n",
       "      <td>1st Owner</td>\n",
       "      <td>1970-01-01 00:00:00.000002018</td>\n",
       "      <td>1199</td>\n",
       "      <td>5</td>\n",
       "      <td>Honda</td>\n",
       "    </tr>\n",
       "  </tbody>\n",
       "</table>\n",
       "</div>"
      ],
      "text/plain": [
       "   Column1  car_name  car_prices_in_rupee  kms_driven  fuel_type transmission  \\\n",
       "0        0       425            1003000.0       86226          1       Manual   \n",
       "1        1       508            1283000.0       13248          4    Automatic   \n",
       "3        3       911             777000.0       26696          4    Automatic   \n",
       "\n",
       "   ownership                   manufacture  engine  Seats company_name  \n",
       "0  1st Owner 1970-01-01 00:00:00.000002017    1956      5         Jeep  \n",
       "1  1st Owner 1970-01-01 00:00:00.000002021    1330      5      Renault  \n",
       "3  1st Owner 1970-01-01 00:00:00.000002018    1199      5        Honda  "
      ]
     },
     "execution_count": 65,
     "metadata": {},
     "output_type": "execute_result"
    }
   ],
   "source": [
    "dataset.head(3)"
   ]
  },
  {
   "cell_type": "markdown",
   "id": "8877a950-373a-41da-a5cd-6e8daad0dfca",
   "metadata": {},
   "source": [
    "### Encoding transmission"
   ]
  },
  {
   "cell_type": "code",
   "execution_count": 66,
   "id": "bb3af852-3b50-4092-8043-d06064e5635b",
   "metadata": {},
   "outputs": [],
   "source": [
    "transmission_en = LabelEncoder()\n",
    "dataset['transmission'] = transmission_en.fit_transform(dataset['transmission'])"
   ]
  },
  {
   "cell_type": "code",
   "execution_count": 67,
   "id": "41265832-2144-4700-9b25-94c0948053f8",
   "metadata": {},
   "outputs": [
    {
     "data": {
      "text/html": [
       "<div>\n",
       "<style scoped>\n",
       "    .dataframe tbody tr th:only-of-type {\n",
       "        vertical-align: middle;\n",
       "    }\n",
       "\n",
       "    .dataframe tbody tr th {\n",
       "        vertical-align: top;\n",
       "    }\n",
       "\n",
       "    .dataframe thead th {\n",
       "        text-align: right;\n",
       "    }\n",
       "</style>\n",
       "<table border=\"1\" class=\"dataframe\">\n",
       "  <thead>\n",
       "    <tr style=\"text-align: right;\">\n",
       "      <th></th>\n",
       "      <th>Column1</th>\n",
       "      <th>car_name</th>\n",
       "      <th>car_prices_in_rupee</th>\n",
       "      <th>kms_driven</th>\n",
       "      <th>fuel_type</th>\n",
       "      <th>transmission</th>\n",
       "      <th>ownership</th>\n",
       "      <th>manufacture</th>\n",
       "      <th>engine</th>\n",
       "      <th>Seats</th>\n",
       "      <th>company_name</th>\n",
       "    </tr>\n",
       "  </thead>\n",
       "  <tbody>\n",
       "    <tr>\n",
       "      <th>0</th>\n",
       "      <td>0</td>\n",
       "      <td>425</td>\n",
       "      <td>1003000.0</td>\n",
       "      <td>86226</td>\n",
       "      <td>1</td>\n",
       "      <td>1</td>\n",
       "      <td>1st Owner</td>\n",
       "      <td>1970-01-01 00:00:00.000002017</td>\n",
       "      <td>1956</td>\n",
       "      <td>5</td>\n",
       "      <td>Jeep</td>\n",
       "    </tr>\n",
       "    <tr>\n",
       "      <th>1</th>\n",
       "      <td>1</td>\n",
       "      <td>508</td>\n",
       "      <td>1283000.0</td>\n",
       "      <td>13248</td>\n",
       "      <td>4</td>\n",
       "      <td>0</td>\n",
       "      <td>1st Owner</td>\n",
       "      <td>1970-01-01 00:00:00.000002021</td>\n",
       "      <td>1330</td>\n",
       "      <td>5</td>\n",
       "      <td>Renault</td>\n",
       "    </tr>\n",
       "    <tr>\n",
       "      <th>3</th>\n",
       "      <td>3</td>\n",
       "      <td>911</td>\n",
       "      <td>777000.0</td>\n",
       "      <td>26696</td>\n",
       "      <td>4</td>\n",
       "      <td>0</td>\n",
       "      <td>1st Owner</td>\n",
       "      <td>1970-01-01 00:00:00.000002018</td>\n",
       "      <td>1199</td>\n",
       "      <td>5</td>\n",
       "      <td>Honda</td>\n",
       "    </tr>\n",
       "  </tbody>\n",
       "</table>\n",
       "</div>"
      ],
      "text/plain": [
       "   Column1  car_name  car_prices_in_rupee  kms_driven  fuel_type  \\\n",
       "0        0       425            1003000.0       86226          1   \n",
       "1        1       508            1283000.0       13248          4   \n",
       "3        3       911             777000.0       26696          4   \n",
       "\n",
       "   transmission  ownership                   manufacture  engine  Seats  \\\n",
       "0             1  1st Owner 1970-01-01 00:00:00.000002017    1956      5   \n",
       "1             0  1st Owner 1970-01-01 00:00:00.000002021    1330      5   \n",
       "3             0  1st Owner 1970-01-01 00:00:00.000002018    1199      5   \n",
       "\n",
       "  company_name  \n",
       "0         Jeep  \n",
       "1      Renault  \n",
       "3        Honda  "
      ]
     },
     "execution_count": 67,
     "metadata": {},
     "output_type": "execute_result"
    }
   ],
   "source": [
    "dataset.head(3)"
   ]
  },
  {
   "cell_type": "markdown",
   "id": "592e138b-78ac-4160-af85-1f0ba3cf2abc",
   "metadata": {},
   "source": [
    "### Encoding ownership"
   ]
  },
  {
   "cell_type": "code",
   "execution_count": 68,
   "id": "036df88a-0505-453a-9ad6-a70c22a8f9a6",
   "metadata": {},
   "outputs": [],
   "source": [
    "ownership_en = LabelEncoder()\n",
    "dataset['ownership'] = ownership_en.fit_transform(dataset['ownership'])"
   ]
  },
  {
   "cell_type": "code",
   "execution_count": 69,
   "id": "4a1a57f3-e800-43e9-abc9-fa9a183f74d3",
   "metadata": {},
   "outputs": [
    {
     "data": {
      "text/html": [
       "<div>\n",
       "<style scoped>\n",
       "    .dataframe tbody tr th:only-of-type {\n",
       "        vertical-align: middle;\n",
       "    }\n",
       "\n",
       "    .dataframe tbody tr th {\n",
       "        vertical-align: top;\n",
       "    }\n",
       "\n",
       "    .dataframe thead th {\n",
       "        text-align: right;\n",
       "    }\n",
       "</style>\n",
       "<table border=\"1\" class=\"dataframe\">\n",
       "  <thead>\n",
       "    <tr style=\"text-align: right;\">\n",
       "      <th></th>\n",
       "      <th>Column1</th>\n",
       "      <th>car_name</th>\n",
       "      <th>car_prices_in_rupee</th>\n",
       "      <th>kms_driven</th>\n",
       "      <th>fuel_type</th>\n",
       "      <th>transmission</th>\n",
       "      <th>ownership</th>\n",
       "      <th>manufacture</th>\n",
       "      <th>engine</th>\n",
       "      <th>Seats</th>\n",
       "      <th>company_name</th>\n",
       "    </tr>\n",
       "  </thead>\n",
       "  <tbody>\n",
       "    <tr>\n",
       "      <th>0</th>\n",
       "      <td>0</td>\n",
       "      <td>425</td>\n",
       "      <td>1003000.0</td>\n",
       "      <td>86226</td>\n",
       "      <td>1</td>\n",
       "      <td>1</td>\n",
       "      <td>1</td>\n",
       "      <td>1970-01-01 00:00:00.000002017</td>\n",
       "      <td>1956</td>\n",
       "      <td>5</td>\n",
       "      <td>Jeep</td>\n",
       "    </tr>\n",
       "    <tr>\n",
       "      <th>1</th>\n",
       "      <td>1</td>\n",
       "      <td>508</td>\n",
       "      <td>1283000.0</td>\n",
       "      <td>13248</td>\n",
       "      <td>4</td>\n",
       "      <td>0</td>\n",
       "      <td>1</td>\n",
       "      <td>1970-01-01 00:00:00.000002021</td>\n",
       "      <td>1330</td>\n",
       "      <td>5</td>\n",
       "      <td>Renault</td>\n",
       "    </tr>\n",
       "    <tr>\n",
       "      <th>3</th>\n",
       "      <td>3</td>\n",
       "      <td>911</td>\n",
       "      <td>777000.0</td>\n",
       "      <td>26696</td>\n",
       "      <td>4</td>\n",
       "      <td>0</td>\n",
       "      <td>1</td>\n",
       "      <td>1970-01-01 00:00:00.000002018</td>\n",
       "      <td>1199</td>\n",
       "      <td>5</td>\n",
       "      <td>Honda</td>\n",
       "    </tr>\n",
       "  </tbody>\n",
       "</table>\n",
       "</div>"
      ],
      "text/plain": [
       "   Column1  car_name  car_prices_in_rupee  kms_driven  fuel_type  \\\n",
       "0        0       425            1003000.0       86226          1   \n",
       "1        1       508            1283000.0       13248          4   \n",
       "3        3       911             777000.0       26696          4   \n",
       "\n",
       "   transmission  ownership                   manufacture  engine  Seats  \\\n",
       "0             1          1 1970-01-01 00:00:00.000002017    1956      5   \n",
       "1             0          1 1970-01-01 00:00:00.000002021    1330      5   \n",
       "3             0          1 1970-01-01 00:00:00.000002018    1199      5   \n",
       "\n",
       "  company_name  \n",
       "0         Jeep  \n",
       "1      Renault  \n",
       "3        Honda  "
      ]
     },
     "execution_count": 69,
     "metadata": {},
     "output_type": "execute_result"
    }
   ],
   "source": [
    "dataset.head(3)"
   ]
  },
  {
   "cell_type": "markdown",
   "id": "aaab6e21-060b-46d5-9be9-789b5492d00c",
   "metadata": {},
   "source": [
    "### Geting year from manufacture"
   ]
  },
  {
   "cell_type": "code",
   "execution_count": 73,
   "id": "7b6c06cc-db80-4601-b7f4-52dfcb9deef4",
   "metadata": {},
   "outputs": [],
   "source": [
    "dataset['manufacture_year'] = dataset['manufacture'].dt.year"
   ]
  },
  {
   "cell_type": "code",
   "execution_count": 77,
   "id": "c8c76c38-7183-4188-b9c9-56f14018dc5b",
   "metadata": {},
   "outputs": [],
   "source": [
    "dataset.drop(columns=['manufacture'], inplace=True)"
   ]
  },
  {
   "cell_type": "code",
   "execution_count": 78,
   "id": "e7d379ec-ad21-40e6-bab4-c10c3126eee8",
   "metadata": {},
   "outputs": [
    {
     "data": {
      "text/html": [
       "<div>\n",
       "<style scoped>\n",
       "    .dataframe tbody tr th:only-of-type {\n",
       "        vertical-align: middle;\n",
       "    }\n",
       "\n",
       "    .dataframe tbody tr th {\n",
       "        vertical-align: top;\n",
       "    }\n",
       "\n",
       "    .dataframe thead th {\n",
       "        text-align: right;\n",
       "    }\n",
       "</style>\n",
       "<table border=\"1\" class=\"dataframe\">\n",
       "  <thead>\n",
       "    <tr style=\"text-align: right;\">\n",
       "      <th></th>\n",
       "      <th>Column1</th>\n",
       "      <th>car_name</th>\n",
       "      <th>car_prices_in_rupee</th>\n",
       "      <th>kms_driven</th>\n",
       "      <th>fuel_type</th>\n",
       "      <th>transmission</th>\n",
       "      <th>ownership</th>\n",
       "      <th>engine</th>\n",
       "      <th>Seats</th>\n",
       "      <th>company_name</th>\n",
       "      <th>manufacture_year</th>\n",
       "    </tr>\n",
       "  </thead>\n",
       "  <tbody>\n",
       "    <tr>\n",
       "      <th>0</th>\n",
       "      <td>0</td>\n",
       "      <td>425</td>\n",
       "      <td>1003000.0</td>\n",
       "      <td>86226</td>\n",
       "      <td>1</td>\n",
       "      <td>1</td>\n",
       "      <td>1</td>\n",
       "      <td>1956</td>\n",
       "      <td>5</td>\n",
       "      <td>12</td>\n",
       "      <td>1970</td>\n",
       "    </tr>\n",
       "    <tr>\n",
       "      <th>1</th>\n",
       "      <td>1</td>\n",
       "      <td>508</td>\n",
       "      <td>1283000.0</td>\n",
       "      <td>13248</td>\n",
       "      <td>4</td>\n",
       "      <td>0</td>\n",
       "      <td>1</td>\n",
       "      <td>1330</td>\n",
       "      <td>5</td>\n",
       "      <td>26</td>\n",
       "      <td>1970</td>\n",
       "    </tr>\n",
       "    <tr>\n",
       "      <th>3</th>\n",
       "      <td>3</td>\n",
       "      <td>911</td>\n",
       "      <td>777000.0</td>\n",
       "      <td>26696</td>\n",
       "      <td>4</td>\n",
       "      <td>0</td>\n",
       "      <td>1</td>\n",
       "      <td>1199</td>\n",
       "      <td>5</td>\n",
       "      <td>8</td>\n",
       "      <td>1970</td>\n",
       "    </tr>\n",
       "  </tbody>\n",
       "</table>\n",
       "</div>"
      ],
      "text/plain": [
       "   Column1  car_name  car_prices_in_rupee  kms_driven  fuel_type  \\\n",
       "0        0       425            1003000.0       86226          1   \n",
       "1        1       508            1283000.0       13248          4   \n",
       "3        3       911             777000.0       26696          4   \n",
       "\n",
       "   transmission  ownership  engine  Seats  company_name  manufacture_year  \n",
       "0             1          1    1956      5            12              1970  \n",
       "1             0          1    1330      5            26              1970  \n",
       "3             0          1    1199      5             8              1970  "
      ]
     },
     "execution_count": 78,
     "metadata": {},
     "output_type": "execute_result"
    }
   ],
   "source": [
    "dataset.head(3)"
   ]
  },
  {
   "cell_type": "markdown",
   "id": "a0a07e3a-0222-4391-843c-2da8c5b93557",
   "metadata": {},
   "source": [
    "### Encoding comapany_name"
   ]
  },
  {
   "cell_type": "code",
   "execution_count": 79,
   "id": "45cab33e-a5a9-4819-998c-fcee2eda0bff",
   "metadata": {},
   "outputs": [],
   "source": [
    "company_name_en = LabelEncoder()\n",
    "dataset['company_name'] = company_name_en.fit_transform(dataset['company_name'])"
   ]
  },
  {
   "cell_type": "code",
   "execution_count": 80,
   "id": "b522b3cf-527a-400b-a408-07e1727eaac4",
   "metadata": {},
   "outputs": [
    {
     "data": {
      "text/html": [
       "<div>\n",
       "<style scoped>\n",
       "    .dataframe tbody tr th:only-of-type {\n",
       "        vertical-align: middle;\n",
       "    }\n",
       "\n",
       "    .dataframe tbody tr th {\n",
       "        vertical-align: top;\n",
       "    }\n",
       "\n",
       "    .dataframe thead th {\n",
       "        text-align: right;\n",
       "    }\n",
       "</style>\n",
       "<table border=\"1\" class=\"dataframe\">\n",
       "  <thead>\n",
       "    <tr style=\"text-align: right;\">\n",
       "      <th></th>\n",
       "      <th>Column1</th>\n",
       "      <th>car_name</th>\n",
       "      <th>car_prices_in_rupee</th>\n",
       "      <th>kms_driven</th>\n",
       "      <th>fuel_type</th>\n",
       "      <th>transmission</th>\n",
       "      <th>ownership</th>\n",
       "      <th>engine</th>\n",
       "      <th>Seats</th>\n",
       "      <th>company_name</th>\n",
       "      <th>manufacture_year</th>\n",
       "    </tr>\n",
       "  </thead>\n",
       "  <tbody>\n",
       "    <tr>\n",
       "      <th>0</th>\n",
       "      <td>0</td>\n",
       "      <td>425</td>\n",
       "      <td>1003000.0</td>\n",
       "      <td>86226</td>\n",
       "      <td>1</td>\n",
       "      <td>1</td>\n",
       "      <td>1</td>\n",
       "      <td>1956</td>\n",
       "      <td>5</td>\n",
       "      <td>12</td>\n",
       "      <td>1970</td>\n",
       "    </tr>\n",
       "    <tr>\n",
       "      <th>1</th>\n",
       "      <td>1</td>\n",
       "      <td>508</td>\n",
       "      <td>1283000.0</td>\n",
       "      <td>13248</td>\n",
       "      <td>4</td>\n",
       "      <td>0</td>\n",
       "      <td>1</td>\n",
       "      <td>1330</td>\n",
       "      <td>5</td>\n",
       "      <td>26</td>\n",
       "      <td>1970</td>\n",
       "    </tr>\n",
       "    <tr>\n",
       "      <th>3</th>\n",
       "      <td>3</td>\n",
       "      <td>911</td>\n",
       "      <td>777000.0</td>\n",
       "      <td>26696</td>\n",
       "      <td>4</td>\n",
       "      <td>0</td>\n",
       "      <td>1</td>\n",
       "      <td>1199</td>\n",
       "      <td>5</td>\n",
       "      <td>8</td>\n",
       "      <td>1970</td>\n",
       "    </tr>\n",
       "  </tbody>\n",
       "</table>\n",
       "</div>"
      ],
      "text/plain": [
       "   Column1  car_name  car_prices_in_rupee  kms_driven  fuel_type  \\\n",
       "0        0       425            1003000.0       86226          1   \n",
       "1        1       508            1283000.0       13248          4   \n",
       "3        3       911             777000.0       26696          4   \n",
       "\n",
       "   transmission  ownership  engine  Seats  company_name  manufacture_year  \n",
       "0             1          1    1956      5            12              1970  \n",
       "1             0          1    1330      5            26              1970  \n",
       "3             0          1    1199      5             8              1970  "
      ]
     },
     "execution_count": 80,
     "metadata": {},
     "output_type": "execute_result"
    }
   ],
   "source": [
    "dataset.head(3)"
   ]
  },
  {
   "cell_type": "code",
   "execution_count": null,
   "id": "9cecdc00-3eec-408a-9876-6342858b52ab",
   "metadata": {},
   "outputs": [],
   "source": []
  },
  {
   "cell_type": "code",
   "execution_count": null,
   "id": "b1d868ec-df9b-48c3-bf9f-f550430a0413",
   "metadata": {},
   "outputs": [],
   "source": []
  },
  {
   "cell_type": "code",
   "execution_count": 106,
   "id": "0323c68f-9331-4784-ab9c-128d43398804",
   "metadata": {},
   "outputs": [
    {
     "data": {
      "image/png": "[encoded data removed]",
      "text/plain": [
       "<Figure size 400x300 with 1 Axes>"
      ]
     },
     "metadata": {},
     "output_type": "display_data"
    }
   ],
   "source": [
    "plt.figure(figsize=(4,3))\n",
    "sns.boxplot(x='engine', data=dataset)\n",
    "plt.show()"
   ]
  },
  {
   "cell_type": "code",
   "execution_count": null,
   "id": "6d555540-6922-44d2-95a6-992598184fbe",
   "metadata": {},
   "outputs": [],
   "source": []
  },
  {
   "cell_type": "markdown",
   "id": "8be2ce5c-76f3-435c-893c-0dafdacffe21",
   "metadata": {},
   "source": [
    "### Removing outlire of engine"
   ]
  },
  {
   "cell_type": "code",
   "execution_count": 94,
   "id": "1217330d-ac5a-457b-b4d4-ea4e428bc9b1",
   "metadata": {},
   "outputs": [],
   "source": [
    "q1 = np.quantile(dataset['engine'], 0.25)\n",
    "q3 = np.quantile(dataset['engine'], 0.75)"
   ]
  },
  {
   "cell_type": "code",
   "execution_count": 96,
   "id": "80e77ec8-b64e-491c-bbe1-316b7d50c46e",
   "metadata": {},
   "outputs": [
    {
     "data": {
      "text/plain": [
       "(1197.0, 1950.0)"
      ]
     },
     "execution_count": 96,
     "metadata": {},
     "output_type": "execute_result"
    }
   ],
   "source": [
    "q1, q3"
   ]
  },
  {
   "cell_type": "code",
   "execution_count": 97,
   "id": "a26861d9-ad89-4a6d-9a54-291b7ccbbb4a",
   "metadata": {},
   "outputs": [],
   "source": [
    "iqr = q3 - q1"
   ]
  },
  {
   "cell_type": "code",
   "execution_count": 99,
   "id": "f59c9153-5126-4476-ba90-aea5c8106b01",
   "metadata": {},
   "outputs": [],
   "source": [
    "min_r = q1 - (1.5*iqr)\n",
    "max_r = q3 + (1.5*iqr)"
   ]
  },
  {
   "cell_type": "code",
   "execution_count": 100,
   "id": "f81f285b-0238-4035-a59f-c7d71ec5826c",
   "metadata": {},
   "outputs": [
    {
     "data": {
      "text/plain": [
       "(67.5, 3079.5)"
      ]
     },
     "execution_count": 100,
     "metadata": {},
     "output_type": "execute_result"
    }
   ],
   "source": [
    "min_r, max_r"
   ]
  },
  {
   "cell_type": "code",
   "execution_count": 104,
   "id": "e2fcafdc-7200-4e8f-ae2a-7f88f96a9512",
   "metadata": {},
   "outputs": [],
   "source": [
    "dataset = dataset[dataset['engine'] <= max_r]"
   ]
  },
  {
   "cell_type": "code",
   "execution_count": 105,
   "id": "41eb1852-ce11-48ac-8d66-f78e98ccce53",
   "metadata": {},
   "outputs": [
    {
     "data": {
      "text/html": [
       "<div>\n",
       "<style scoped>\n",
       "    .dataframe tbody tr th:only-of-type {\n",
       "        vertical-align: middle;\n",
       "    }\n",
       "\n",
       "    .dataframe tbody tr th {\n",
       "        vertical-align: top;\n",
       "    }\n",
       "\n",
       "    .dataframe thead th {\n",
       "        text-align: right;\n",
       "    }\n",
       "</style>\n",
       "<table border=\"1\" class=\"dataframe\">\n",
       "  <thead>\n",
       "    <tr style=\"text-align: right;\">\n",
       "      <th></th>\n",
       "      <th>Column1</th>\n",
       "      <th>car_name</th>\n",
       "      <th>car_prices_in_rupee</th>\n",
       "      <th>kms_driven</th>\n",
       "      <th>fuel_type</th>\n",
       "      <th>transmission</th>\n",
       "      <th>ownership</th>\n",
       "      <th>engine</th>\n",
       "      <th>Seats</th>\n",
       "      <th>company_name</th>\n",
       "      <th>manufacture_year</th>\n",
       "    </tr>\n",
       "  </thead>\n",
       "  <tbody>\n",
       "    <tr>\n",
       "      <th>0</th>\n",
       "      <td>0</td>\n",
       "      <td>425</td>\n",
       "      <td>1003000.0</td>\n",
       "      <td>86226</td>\n",
       "      <td>1</td>\n",
       "      <td>1</td>\n",
       "      <td>1</td>\n",
       "      <td>1956</td>\n",
       "      <td>5</td>\n",
       "      <td>12</td>\n",
       "      <td>1970</td>\n",
       "    </tr>\n",
       "    <tr>\n",
       "      <th>1</th>\n",
       "      <td>1</td>\n",
       "      <td>508</td>\n",
       "      <td>1283000.0</td>\n",
       "      <td>13248</td>\n",
       "      <td>4</td>\n",
       "      <td>0</td>\n",
       "      <td>1</td>\n",
       "      <td>1330</td>\n",
       "      <td>5</td>\n",
       "      <td>26</td>\n",
       "      <td>1970</td>\n",
       "    </tr>\n",
       "    <tr>\n",
       "      <th>3</th>\n",
       "      <td>3</td>\n",
       "      <td>911</td>\n",
       "      <td>777000.0</td>\n",
       "      <td>26696</td>\n",
       "      <td>4</td>\n",
       "      <td>0</td>\n",
       "      <td>1</td>\n",
       "      <td>1199</td>\n",
       "      <td>5</td>\n",
       "      <td>8</td>\n",
       "      <td>1970</td>\n",
       "    </tr>\n",
       "  </tbody>\n",
       "</table>\n",
       "</div>"
      ],
      "text/plain": [
       "   Column1  car_name  car_prices_in_rupee  kms_driven  fuel_type  \\\n",
       "0        0       425            1003000.0       86226          1   \n",
       "1        1       508            1283000.0       13248          4   \n",
       "3        3       911             777000.0       26696          4   \n",
       "\n",
       "   transmission  ownership  engine  Seats  company_name  manufacture_year  \n",
       "0             1          1    1956      5            12              1970  \n",
       "1             0          1    1330      5            26              1970  \n",
       "3             0          1    1199      5             8              1970  "
      ]
     },
     "execution_count": 105,
     "metadata": {},
     "output_type": "execute_result"
    }
   ],
   "source": [
    "dataset.head(3)"
   ]
  },
  {
   "cell_type": "code",
   "execution_count": null,
   "id": "a6bac25b-fe9d-4b32-b568-aa26d60727ff",
   "metadata": {},
   "outputs": [],
   "source": []
  },
  {
   "cell_type": "code",
   "execution_count": null,
   "id": "2f5c470a-8c32-492f-8792-05fd226464d3",
   "metadata": {},
   "outputs": [],
   "source": []
  },
  {
   "cell_type": "markdown",
   "id": "f5040ec5-5e5d-41d6-8e99-5ca81124bd13",
   "metadata": {},
   "source": [
    "### Scaling"
   ]
  },
  {
   "cell_type": "code",
   "execution_count": 110,
   "id": "3b52c228-ab4e-44b8-a613-04ba063c2787",
   "metadata": {},
   "outputs": [
    {
     "data": {
      "text/html": [
       "<div>\n",
       "<style scoped>\n",
       "    .dataframe tbody tr th:only-of-type {\n",
       "        vertical-align: middle;\n",
       "    }\n",
       "\n",
       "    .dataframe tbody tr th {\n",
       "        vertical-align: top;\n",
       "    }\n",
       "\n",
       "    .dataframe thead th {\n",
       "        text-align: right;\n",
       "    }\n",
       "</style>\n",
       "<table border=\"1\" class=\"dataframe\">\n",
       "  <thead>\n",
       "    <tr style=\"text-align: right;\">\n",
       "      <th></th>\n",
       "      <th>Column1</th>\n",
       "      <th>car_name</th>\n",
       "      <th>car_prices_in_rupee</th>\n",
       "      <th>kms_driven</th>\n",
       "      <th>fuel_type</th>\n",
       "      <th>transmission</th>\n",
       "      <th>ownership</th>\n",
       "      <th>engine</th>\n",
       "      <th>Seats</th>\n",
       "      <th>company_name</th>\n",
       "      <th>manufacture_year</th>\n",
       "    </tr>\n",
       "  </thead>\n",
       "  <tbody>\n",
       "    <tr>\n",
       "      <th>0</th>\n",
       "      <td>-1.740242</td>\n",
       "      <td>-0.915789</td>\n",
       "      <td>-0.076333</td>\n",
       "      <td>0.549508</td>\n",
       "      <td>-1.071684</td>\n",
       "      <td>0.621372</td>\n",
       "      <td>-0.600439</td>\n",
       "      <td>0.875328</td>\n",
       "      <td>-0.347221</td>\n",
       "      <td>-0.426332</td>\n",
       "      <td>0.0</td>\n",
       "    </tr>\n",
       "    <tr>\n",
       "      <th>1</th>\n",
       "      <td>-1.739612</td>\n",
       "      <td>-0.772106</td>\n",
       "      <td>0.067728</td>\n",
       "      <td>-1.195554</td>\n",
       "      <td>0.915962</td>\n",
       "      <td>-1.609342</td>\n",
       "      <td>-0.600439</td>\n",
       "      <td>-0.342661</td>\n",
       "      <td>-0.347221</td>\n",
       "      <td>1.299274</td>\n",
       "      <td>0.0</td>\n",
       "    </tr>\n",
       "    <tr>\n",
       "      <th>2</th>\n",
       "      <td>-1.738352</td>\n",
       "      <td>-0.074462</td>\n",
       "      <td>-0.192610</td>\n",
       "      <td>-0.873983</td>\n",
       "      <td>0.915962</td>\n",
       "      <td>-1.609342</td>\n",
       "      <td>-0.600439</td>\n",
       "      <td>-0.597544</td>\n",
       "      <td>-0.347221</td>\n",
       "      <td>-0.919362</td>\n",
       "      <td>0.0</td>\n",
       "    </tr>\n",
       "    <tr>\n",
       "      <th>3</th>\n",
       "      <td>-1.737721</td>\n",
       "      <td>0.238872</td>\n",
       "      <td>-0.327410</td>\n",
       "      <td>0.147496</td>\n",
       "      <td>0.915962</td>\n",
       "      <td>0.621372</td>\n",
       "      <td>-0.600439</td>\n",
       "      <td>-0.597544</td>\n",
       "      <td>-0.347221</td>\n",
       "      <td>1.792304</td>\n",
       "      <td>0.0</td>\n",
       "    </tr>\n",
       "    <tr>\n",
       "      <th>4</th>\n",
       "      <td>-1.737091</td>\n",
       "      <td>0.988450</td>\n",
       "      <td>-0.198270</td>\n",
       "      <td>-0.323453</td>\n",
       "      <td>0.915962</td>\n",
       "      <td>-1.609342</td>\n",
       "      <td>-0.600439</td>\n",
       "      <td>-0.601435</td>\n",
       "      <td>-0.347221</td>\n",
       "      <td>1.792304</td>\n",
       "      <td>0.0</td>\n",
       "    </tr>\n",
       "    <tr>\n",
       "      <th>...</th>\n",
       "      <td>...</td>\n",
       "      <td>...</td>\n",
       "      <td>...</td>\n",
       "      <td>...</td>\n",
       "      <td>...</td>\n",
       "      <td>...</td>\n",
       "      <td>...</td>\n",
       "      <td>...</td>\n",
       "      <td>...</td>\n",
       "      <td>...</td>\n",
       "      <td>...</td>\n",
       "    </tr>\n",
       "    <tr>\n",
       "      <th>5441</th>\n",
       "      <td>1.730562</td>\n",
       "      <td>1.251581</td>\n",
       "      <td>0.894535</td>\n",
       "      <td>-0.436295</td>\n",
       "      <td>-1.071684</td>\n",
       "      <td>-1.609342</td>\n",
       "      <td>-0.600439</td>\n",
       "      <td>2.896879</td>\n",
       "      <td>2.452133</td>\n",
       "      <td>-1.782164</td>\n",
       "      <td>0.0</td>\n",
       "    </tr>\n",
       "    <tr>\n",
       "      <th>5442</th>\n",
       "      <td>1.731192</td>\n",
       "      <td>0.038062</td>\n",
       "      <td>2.746746</td>\n",
       "      <td>-0.818889</td>\n",
       "      <td>0.915962</td>\n",
       "      <td>-1.609342</td>\n",
       "      <td>0.820061</td>\n",
       "      <td>0.898676</td>\n",
       "      <td>-0.347221</td>\n",
       "      <td>-1.782164</td>\n",
       "      <td>0.0</td>\n",
       "    </tr>\n",
       "    <tr>\n",
       "      <th>5443</th>\n",
       "      <td>1.731823</td>\n",
       "      <td>1.306978</td>\n",
       "      <td>0.115062</td>\n",
       "      <td>0.639752</td>\n",
       "      <td>-1.071684</td>\n",
       "      <td>-1.609342</td>\n",
       "      <td>0.820061</td>\n",
       "      <td>2.429919</td>\n",
       "      <td>-0.347221</td>\n",
       "      <td>-0.549589</td>\n",
       "      <td>0.0</td>\n",
       "    </tr>\n",
       "    <tr>\n",
       "      <th>5444</th>\n",
       "      <td>1.732453</td>\n",
       "      <td>-1.608240</td>\n",
       "      <td>0.945985</td>\n",
       "      <td>0.376718</td>\n",
       "      <td>-1.071684</td>\n",
       "      <td>-1.609342</td>\n",
       "      <td>2.240560</td>\n",
       "      <td>2.842401</td>\n",
       "      <td>1.052456</td>\n",
       "      <td>-1.782164</td>\n",
       "      <td>0.0</td>\n",
       "    </tr>\n",
       "    <tr>\n",
       "      <th>5445</th>\n",
       "      <td>1.733083</td>\n",
       "      <td>-1.629014</td>\n",
       "      <td>1.048886</td>\n",
       "      <td>-0.508031</td>\n",
       "      <td>-1.071684</td>\n",
       "      <td>-1.609342</td>\n",
       "      <td>0.820061</td>\n",
       "      <td>0.943427</td>\n",
       "      <td>-0.347221</td>\n",
       "      <td>-1.782164</td>\n",
       "      <td>0.0</td>\n",
       "    </tr>\n",
       "  </tbody>\n",
       "</table>\n",
       "<p>5446 rows × 11 columns</p>\n",
       "</div>"
      ],
      "text/plain": [
       "       Column1  car_name  car_prices_in_rupee  kms_driven  fuel_type  \\\n",
       "0    -1.740242 -0.915789            -0.076333    0.549508  -1.071684   \n",
       "1    -1.739612 -0.772106             0.067728   -1.195554   0.915962   \n",
       "2    -1.738352 -0.074462            -0.192610   -0.873983   0.915962   \n",
       "3    -1.737721  0.238872            -0.327410    0.147496   0.915962   \n",
       "4    -1.737091  0.988450            -0.198270   -0.323453   0.915962   \n",
       "...        ...       ...                  ...         ...        ...   \n",
       "5441  1.730562  1.251581             0.894535   -0.436295  -1.071684   \n",
       "5442  1.731192  0.038062             2.746746   -0.818889   0.915962   \n",
       "5443  1.731823  1.306978             0.115062    0.639752  -1.071684   \n",
       "5444  1.732453 -1.608240             0.945985    0.376718  -1.071684   \n",
       "5445  1.733083 -1.629014             1.048886   -0.508031  -1.071684   \n",
       "\n",
       "      transmission  ownership    engine     Seats  company_name  \\\n",
       "0         0.621372  -0.600439  0.875328 -0.347221     -0.426332   \n",
       "1        -1.609342  -0.600439 -0.342661 -0.347221      1.299274   \n",
       "2        -1.609342  -0.600439 -0.597544 -0.347221     -0.919362   \n",
       "3         0.621372  -0.600439 -0.597544 -0.347221      1.792304   \n",
       "4        -1.609342  -0.600439 -0.601435 -0.347221      1.792304   \n",
       "...            ...        ...       ...       ...           ...   \n",
       "5441     -1.609342  -0.600439  2.896879  2.452133     -1.782164   \n",
       "5442     -1.609342   0.820061  0.898676 -0.347221     -1.782164   \n",
       "5443     -1.609342   0.820061  2.429919 -0.347221     -0.549589   \n",
       "5444     -1.609342   2.240560  2.842401  1.052456     -1.782164   \n",
       "5445     -1.609342   0.820061  0.943427 -0.347221     -1.782164   \n",
       "\n",
       "      manufacture_year  \n",
       "0                  0.0  \n",
       "1                  0.0  \n",
       "2                  0.0  \n",
       "3                  0.0  \n",
       "4                  0.0  \n",
       "...                ...  \n",
       "5441               0.0  \n",
       "5442               0.0  \n",
       "5443               0.0  \n",
       "5444               0.0  \n",
       "5445               0.0  \n",
       "\n",
       "[5446 rows x 11 columns]"
      ]
     },
     "execution_count": 110,
     "metadata": {},
     "output_type": "execute_result"
    }
   ],
   "source": [
    "ss = StandardScaler()\n",
    "pd.DataFrame(ss.fit_transform(dataset), columns=dataset.columns)"
   ]
  },
  {
   "cell_type": "code",
   "execution_count": 111,
   "id": "fa30e318-0399-4088-8eb9-51913421f299",
   "metadata": {},
   "outputs": [],
   "source": [
    "new_data = pd.DataFrame(ss.fit_transform(dataset), columns=dataset.columns)"
   ]
  },
  {
   "cell_type": "code",
   "execution_count": 112,
   "id": "ae5da3a2-e973-4f4b-92b8-3880f097f32c",
   "metadata": {},
   "outputs": [
    {
     "data": {
      "text/html": [
       "<div>\n",
       "<style scoped>\n",
       "    .dataframe tbody tr th:only-of-type {\n",
       "        vertical-align: middle;\n",
       "    }\n",
       "\n",
       "    .dataframe tbody tr th {\n",
       "        vertical-align: top;\n",
       "    }\n",
       "\n",
       "    .dataframe thead th {\n",
       "        text-align: right;\n",
       "    }\n",
       "</style>\n",
       "<table border=\"1\" class=\"dataframe\">\n",
       "  <thead>\n",
       "    <tr style=\"text-align: right;\">\n",
       "      <th></th>\n",
       "      <th>Column1</th>\n",
       "      <th>car_name</th>\n",
       "      <th>car_prices_in_rupee</th>\n",
       "      <th>kms_driven</th>\n",
       "      <th>fuel_type</th>\n",
       "      <th>transmission</th>\n",
       "      <th>ownership</th>\n",
       "      <th>engine</th>\n",
       "      <th>Seats</th>\n",
       "      <th>company_name</th>\n",
       "      <th>manufacture_year</th>\n",
       "    </tr>\n",
       "  </thead>\n",
       "  <tbody>\n",
       "    <tr>\n",
       "      <th>0</th>\n",
       "      <td>-1.740242</td>\n",
       "      <td>-0.915789</td>\n",
       "      <td>-0.076333</td>\n",
       "      <td>0.549508</td>\n",
       "      <td>-1.071684</td>\n",
       "      <td>0.621372</td>\n",
       "      <td>-0.600439</td>\n",
       "      <td>0.875328</td>\n",
       "      <td>-0.347221</td>\n",
       "      <td>-0.426332</td>\n",
       "      <td>0.0</td>\n",
       "    </tr>\n",
       "    <tr>\n",
       "      <th>1</th>\n",
       "      <td>-1.739612</td>\n",
       "      <td>-0.772106</td>\n",
       "      <td>0.067728</td>\n",
       "      <td>-1.195554</td>\n",
       "      <td>0.915962</td>\n",
       "      <td>-1.609342</td>\n",
       "      <td>-0.600439</td>\n",
       "      <td>-0.342661</td>\n",
       "      <td>-0.347221</td>\n",
       "      <td>1.299274</td>\n",
       "      <td>0.0</td>\n",
       "    </tr>\n",
       "    <tr>\n",
       "      <th>2</th>\n",
       "      <td>-1.738352</td>\n",
       "      <td>-0.074462</td>\n",
       "      <td>-0.192610</td>\n",
       "      <td>-0.873983</td>\n",
       "      <td>0.915962</td>\n",
       "      <td>-1.609342</td>\n",
       "      <td>-0.600439</td>\n",
       "      <td>-0.597544</td>\n",
       "      <td>-0.347221</td>\n",
       "      <td>-0.919362</td>\n",
       "      <td>0.0</td>\n",
       "    </tr>\n",
       "    <tr>\n",
       "      <th>3</th>\n",
       "      <td>-1.737721</td>\n",
       "      <td>0.238872</td>\n",
       "      <td>-0.327410</td>\n",
       "      <td>0.147496</td>\n",
       "      <td>0.915962</td>\n",
       "      <td>0.621372</td>\n",
       "      <td>-0.600439</td>\n",
       "      <td>-0.597544</td>\n",
       "      <td>-0.347221</td>\n",
       "      <td>1.792304</td>\n",
       "      <td>0.0</td>\n",
       "    </tr>\n",
       "    <tr>\n",
       "      <th>4</th>\n",
       "      <td>-1.737091</td>\n",
       "      <td>0.988450</td>\n",
       "      <td>-0.198270</td>\n",
       "      <td>-0.323453</td>\n",
       "      <td>0.915962</td>\n",
       "      <td>-1.609342</td>\n",
       "      <td>-0.600439</td>\n",
       "      <td>-0.601435</td>\n",
       "      <td>-0.347221</td>\n",
       "      <td>1.792304</td>\n",
       "      <td>0.0</td>\n",
       "    </tr>\n",
       "  </tbody>\n",
       "</table>\n",
       "</div>"
      ],
      "text/plain": [
       "    Column1  car_name  car_prices_in_rupee  kms_driven  fuel_type  \\\n",
       "0 -1.740242 -0.915789            -0.076333    0.549508  -1.071684   \n",
       "1 -1.739612 -0.772106             0.067728   -1.195554   0.915962   \n",
       "2 -1.738352 -0.074462            -0.192610   -0.873983   0.915962   \n",
       "3 -1.737721  0.238872            -0.327410    0.147496   0.915962   \n",
       "4 -1.737091  0.988450            -0.198270   -0.323453   0.915962   \n",
       "\n",
       "   transmission  ownership    engine     Seats  company_name  manufacture_year  \n",
       "0      0.621372  -0.600439  0.875328 -0.347221     -0.426332               0.0  \n",
       "1     -1.609342  -0.600439 -0.342661 -0.347221      1.299274               0.0  \n",
       "2     -1.609342  -0.600439 -0.597544 -0.347221     -0.919362               0.0  \n",
       "3      0.621372  -0.600439 -0.597544 -0.347221      1.792304               0.0  \n",
       "4     -1.609342  -0.600439 -0.601435 -0.347221      1.792304               0.0  "
      ]
     },
     "execution_count": 112,
     "metadata": {},
     "output_type": "execute_result"
    }
   ],
   "source": [
    "new_data.head(5)"
   ]
  },
  {
   "cell_type": "code",
   "execution_count": null,
   "id": "34e2dd23-4b79-46e7-b065-98385e1d9efd",
   "metadata": {},
   "outputs": [],
   "source": []
  }
 ],
 "metadata": {
  "kernelspec": {
   "display_name": "Python 3 (ipykernel)",
   "language": "python",
   "name": "python3"
  },
  "language_info": {
   "codemirror_mode": {
    "name": "ipython",
    "version": 3
   },
   "file_extension": ".py",
   "mimetype": "text/x-python",
   "name": "python",
   "nbconvert_exporter": "python",
   "pygments_lexer": "ipython3",
   "version": "3.12.3"
  }
 },
 "nbformat": 4,
 "nbformat_minor": 5
}
