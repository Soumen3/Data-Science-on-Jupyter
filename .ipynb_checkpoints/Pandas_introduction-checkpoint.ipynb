{
 "cells": [
  {
   "cell_type": "code",
   "execution_count": 1,
   "id": "bc8a3ff1-bb70-4298-b693-050be4f69b85",
   "metadata": {},
   "outputs": [],
   "source": [
    "import pandas as pd"
   ]
  },
  {
   "cell_type": "code",
   "execution_count": 2,
   "id": "50751fc6-474d-4cbc-9a04-29f18f6fc05c",
   "metadata": {},
   "outputs": [
    {
     "name": "stdout",
     "output_type": "stream",
     "text": [
      "not worling\n"
     ]
    }
   ],
   "source": [
    "print(\"not worling\")"
   ]
  },
  {
   "cell_type": "code",
   "execution_count": null,
   "id": "2abd5b9d-7dd6-4e4b-8afc-f0ecb36d3a04",
   "metadata": {},
   "outputs": [],
   "source": []
  }
 ],
 "metadata": {
  "kernelspec": {
   "display_name": "Python 3 (ipykernel)",
   "language": "python",
   "name": "python3"
  },
  "language_info": {
   "codemirror_mode": {
    "name": "ipython",
    "version": 3
   },
   "file_extension": ".py",
   "mimetype": "text/x-python",
   "name": "python",
   "nbconvert_exporter": "python",
   "pygments_lexer": "ipython3",
   "version": "3.12.0"
  }
 },
 "nbformat": 4,
 "nbformat_minor": 5
}
